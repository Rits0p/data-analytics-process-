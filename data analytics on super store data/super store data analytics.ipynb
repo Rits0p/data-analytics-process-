{
 "cells": [
  {
   "cell_type": "markdown",
   "id": "cb5e2cb7-ccb0-46a9-ba86-8b7eff04dcb1",
   "metadata": {},
   "source": [
    "# super store data analytics"
   ]
  },
  {
   "cell_type": "markdown",
   "id": "0e3d0654-d1aa-449d-95d4-0fb99fb51cff",
   "metadata": {},
   "source": [
    "### import the recuired library"
   ]
  },
  {
   "cell_type": "code",
   "execution_count": 3,
   "id": "1fa711df-944c-461b-aabf-16e0d4ed71df",
   "metadata": {},
   "outputs": [],
   "source": [
    "# import numpy \n",
    "import numpy as np\n",
    "\n",
    "# import pandas\n",
    "import pandas as pd \n",
    "\n",
    "# import matplotlib\n",
    "import matplotlib.pyplot as plt\n",
    "\n",
    "# import seaborn\n",
    "import seaborn as sns\n"
   ]
  },
  {
   "cell_type": "code",
   "execution_count": 4,
   "id": "e9a9130d-8e39-4d02-b971-e1565c7f8af7",
   "metadata": {},
   "outputs": [],
   "source": [
    "# load the data set \n",
    "df_superstore = pd.read_excel('superstore.xlsx')"
   ]
  },
  {
   "cell_type": "markdown",
   "id": "747499a6-81e6-4b2c-ad63-a5eb166fe8f0",
   "metadata": {},
   "source": [
    "# data overview"
   ]
  },
  {
   "cell_type": "code",
   "execution_count": 6,
   "id": "dee36341-5bb7-4bbc-9b76-e66826e6ce8b",
   "metadata": {},
   "outputs": [
    {
     "data": {
      "text/plain": [
       "Index(['Order ID', 'Order Date', 'Ship Date', 'Ship Mode', 'Customer ID',\n",
       "       'Customer Name', 'Segment', 'Country', 'City', 'State', 'Postal Code',\n",
       "       'Region', 'Product ID', 'Category', 'Sub-Category', 'Product Name',\n",
       "       'Sales', 'Quantity', 'Discount', 'Profit'],\n",
       "      dtype='object')"
      ]
     },
     "execution_count": 6,
     "metadata": {},
     "output_type": "execute_result"
    }
   ],
   "source": [
    "# write the information about column\n",
    "df_superstore.columns"
   ]
  },
  {
   "cell_type": "code",
   "execution_count": 7,
   "id": "edc48aad-3ea2-4422-9bc1-02bfe61c5174",
   "metadata": {},
   "outputs": [],
   "source": [
    "# order id columns it represent unique indentifier for perticular columns.\n",
    "# order date : it represent unique date of order.\n",
    "# shiping data : it represent the order delivery.\n",
    "# shiping mode : it represent the ship mode.\n",
    "# customer id : it represent the customer id.\n",
    "# customer namee : it represent the customer name.\n",
    "# segment : it represent the segments.\n"
   ]
  },
  {
   "cell_type": "code",
   "execution_count": 8,
   "id": "7d3ec231-f4a0-42c3-9f38-739073963c7b",
   "metadata": {},
   "outputs": [
    {
     "data": {
      "text/html": [
       "<div>\n",
       "<style scoped>\n",
       "    .dataframe tbody tr th:only-of-type {\n",
       "        vertical-align: middle;\n",
       "    }\n",
       "\n",
       "    .dataframe tbody tr th {\n",
       "        vertical-align: top;\n",
       "    }\n",
       "\n",
       "    .dataframe thead th {\n",
       "        text-align: right;\n",
       "    }\n",
       "</style>\n",
       "<table border=\"1\" class=\"dataframe\">\n",
       "  <thead>\n",
       "    <tr style=\"text-align: right;\">\n",
       "      <th></th>\n",
       "      <th>Order ID</th>\n",
       "      <th>Order Date</th>\n",
       "      <th>Ship Date</th>\n",
       "      <th>Ship Mode</th>\n",
       "      <th>Customer ID</th>\n",
       "      <th>Customer Name</th>\n",
       "      <th>Segment</th>\n",
       "      <th>Country</th>\n",
       "      <th>City</th>\n",
       "      <th>State</th>\n",
       "      <th>Postal Code</th>\n",
       "      <th>Region</th>\n",
       "      <th>Product ID</th>\n",
       "      <th>Category</th>\n",
       "      <th>Sub-Category</th>\n",
       "      <th>Product Name</th>\n",
       "      <th>Sales</th>\n",
       "      <th>Quantity</th>\n",
       "      <th>Discount</th>\n",
       "      <th>Profit</th>\n",
       "    </tr>\n",
       "  </thead>\n",
       "  <tbody>\n",
       "    <tr>\n",
       "      <th>0</th>\n",
       "      <td>CA-2016-152156</td>\n",
       "      <td>2016-11-08</td>\n",
       "      <td>2016-11-11</td>\n",
       "      <td>Second Class</td>\n",
       "      <td>CG-12520</td>\n",
       "      <td>Claire Gute</td>\n",
       "      <td>Consumer</td>\n",
       "      <td>United States</td>\n",
       "      <td>Henderson</td>\n",
       "      <td>Kentucky</td>\n",
       "      <td>42420</td>\n",
       "      <td>South</td>\n",
       "      <td>FUR-BO-10001798</td>\n",
       "      <td>Furniture</td>\n",
       "      <td>Bookcases</td>\n",
       "      <td>Bush Somerset Collection Bookcase</td>\n",
       "      <td>261.9600</td>\n",
       "      <td>2</td>\n",
       "      <td>0.00</td>\n",
       "      <td>41.9136</td>\n",
       "    </tr>\n",
       "    <tr>\n",
       "      <th>1</th>\n",
       "      <td>CA-2016-152156</td>\n",
       "      <td>2016-11-08</td>\n",
       "      <td>2016-11-11</td>\n",
       "      <td>Second Class</td>\n",
       "      <td>CG-12520</td>\n",
       "      <td>Claire Gute</td>\n",
       "      <td>Consumer</td>\n",
       "      <td>United States</td>\n",
       "      <td>Henderson</td>\n",
       "      <td>Kentucky</td>\n",
       "      <td>42420</td>\n",
       "      <td>South</td>\n",
       "      <td>FUR-CH-10000454</td>\n",
       "      <td>Furniture</td>\n",
       "      <td>Chairs</td>\n",
       "      <td>Hon Deluxe Fabric Upholstered Stacking Chairs,...</td>\n",
       "      <td>731.9400</td>\n",
       "      <td>3</td>\n",
       "      <td>0.00</td>\n",
       "      <td>219.5820</td>\n",
       "    </tr>\n",
       "    <tr>\n",
       "      <th>2</th>\n",
       "      <td>CA-2016-138688</td>\n",
       "      <td>2016-06-12</td>\n",
       "      <td>2016-06-16</td>\n",
       "      <td>Second Class</td>\n",
       "      <td>DV-13045</td>\n",
       "      <td>Darrin Van Huff</td>\n",
       "      <td>Corporate</td>\n",
       "      <td>United States</td>\n",
       "      <td>Los Angeles</td>\n",
       "      <td>California</td>\n",
       "      <td>90036</td>\n",
       "      <td>West</td>\n",
       "      <td>OFF-LA-10000240</td>\n",
       "      <td>Office Supplies</td>\n",
       "      <td>Labels</td>\n",
       "      <td>Self-Adhesive Address Labels for Typewriters b...</td>\n",
       "      <td>14.6200</td>\n",
       "      <td>2</td>\n",
       "      <td>0.00</td>\n",
       "      <td>6.8714</td>\n",
       "    </tr>\n",
       "    <tr>\n",
       "      <th>3</th>\n",
       "      <td>US-2015-108966</td>\n",
       "      <td>2015-10-11</td>\n",
       "      <td>2015-10-18</td>\n",
       "      <td>Standard Class</td>\n",
       "      <td>SO-20335</td>\n",
       "      <td>Sean O'Donnell</td>\n",
       "      <td>Consumer</td>\n",
       "      <td>United States</td>\n",
       "      <td>Fort Lauderdale</td>\n",
       "      <td>Florida</td>\n",
       "      <td>33311</td>\n",
       "      <td>South</td>\n",
       "      <td>FUR-TA-10000577</td>\n",
       "      <td>Furniture</td>\n",
       "      <td>Tables</td>\n",
       "      <td>Bretford CR4500 Series Slim Rectangular Table</td>\n",
       "      <td>957.5775</td>\n",
       "      <td>5</td>\n",
       "      <td>0.45</td>\n",
       "      <td>-383.0310</td>\n",
       "    </tr>\n",
       "    <tr>\n",
       "      <th>4</th>\n",
       "      <td>US-2015-108966</td>\n",
       "      <td>2015-10-11</td>\n",
       "      <td>2015-10-18</td>\n",
       "      <td>Standard Class</td>\n",
       "      <td>SO-20335</td>\n",
       "      <td>Sean O'Donnell</td>\n",
       "      <td>Consumer</td>\n",
       "      <td>United States</td>\n",
       "      <td>Fort Lauderdale</td>\n",
       "      <td>Florida</td>\n",
       "      <td>33311</td>\n",
       "      <td>South</td>\n",
       "      <td>OFF-ST-10000760</td>\n",
       "      <td>Office Supplies</td>\n",
       "      <td>Storage</td>\n",
       "      <td>Eldon Fold 'N Roll Cart System</td>\n",
       "      <td>22.3680</td>\n",
       "      <td>2</td>\n",
       "      <td>0.20</td>\n",
       "      <td>2.5164</td>\n",
       "    </tr>\n",
       "  </tbody>\n",
       "</table>\n",
       "</div>"
      ],
      "text/plain": [
       "         Order ID Order Date  Ship Date       Ship Mode Customer ID  \\\n",
       "0  CA-2016-152156 2016-11-08 2016-11-11    Second Class    CG-12520   \n",
       "1  CA-2016-152156 2016-11-08 2016-11-11    Second Class    CG-12520   \n",
       "2  CA-2016-138688 2016-06-12 2016-06-16    Second Class    DV-13045   \n",
       "3  US-2015-108966 2015-10-11 2015-10-18  Standard Class    SO-20335   \n",
       "4  US-2015-108966 2015-10-11 2015-10-18  Standard Class    SO-20335   \n",
       "\n",
       "     Customer Name    Segment        Country             City       State  \\\n",
       "0      Claire Gute   Consumer  United States        Henderson    Kentucky   \n",
       "1      Claire Gute   Consumer  United States        Henderson    Kentucky   \n",
       "2  Darrin Van Huff  Corporate  United States      Los Angeles  California   \n",
       "3   Sean O'Donnell   Consumer  United States  Fort Lauderdale     Florida   \n",
       "4   Sean O'Donnell   Consumer  United States  Fort Lauderdale     Florida   \n",
       "\n",
       "   Postal Code Region       Product ID         Category Sub-Category  \\\n",
       "0        42420  South  FUR-BO-10001798        Furniture    Bookcases   \n",
       "1        42420  South  FUR-CH-10000454        Furniture       Chairs   \n",
       "2        90036   West  OFF-LA-10000240  Office Supplies       Labels   \n",
       "3        33311  South  FUR-TA-10000577        Furniture       Tables   \n",
       "4        33311  South  OFF-ST-10000760  Office Supplies      Storage   \n",
       "\n",
       "                                        Product Name     Sales  Quantity  \\\n",
       "0                  Bush Somerset Collection Bookcase  261.9600         2   \n",
       "1  Hon Deluxe Fabric Upholstered Stacking Chairs,...  731.9400         3   \n",
       "2  Self-Adhesive Address Labels for Typewriters b...   14.6200         2   \n",
       "3      Bretford CR4500 Series Slim Rectangular Table  957.5775         5   \n",
       "4                     Eldon Fold 'N Roll Cart System   22.3680         2   \n",
       "\n",
       "   Discount    Profit  \n",
       "0      0.00   41.9136  \n",
       "1      0.00  219.5820  \n",
       "2      0.00    6.8714  \n",
       "3      0.45 -383.0310  \n",
       "4      0.20    2.5164  "
      ]
     },
     "execution_count": 8,
     "metadata": {},
     "output_type": "execute_result"
    }
   ],
   "source": [
    "# show the first five observation of the data\n",
    "df_superstore.head(5)"
   ]
  },
  {
   "cell_type": "code",
   "execution_count": 9,
   "id": "bec09ecd-e6ea-4dfe-b000-d4d5fd7c41e2",
   "metadata": {},
   "outputs": [
    {
     "data": {
      "text/html": [
       "<div>\n",
       "<style scoped>\n",
       "    .dataframe tbody tr th:only-of-type {\n",
       "        vertical-align: middle;\n",
       "    }\n",
       "\n",
       "    .dataframe tbody tr th {\n",
       "        vertical-align: top;\n",
       "    }\n",
       "\n",
       "    .dataframe thead th {\n",
       "        text-align: right;\n",
       "    }\n",
       "</style>\n",
       "<table border=\"1\" class=\"dataframe\">\n",
       "  <thead>\n",
       "    <tr style=\"text-align: right;\">\n",
       "      <th></th>\n",
       "      <th>Order ID</th>\n",
       "      <th>Order Date</th>\n",
       "      <th>Ship Date</th>\n",
       "      <th>Ship Mode</th>\n",
       "      <th>Customer ID</th>\n",
       "      <th>Customer Name</th>\n",
       "      <th>Segment</th>\n",
       "      <th>Country</th>\n",
       "      <th>City</th>\n",
       "      <th>State</th>\n",
       "      <th>Postal Code</th>\n",
       "      <th>Region</th>\n",
       "      <th>Product ID</th>\n",
       "      <th>Category</th>\n",
       "      <th>Sub-Category</th>\n",
       "      <th>Product Name</th>\n",
       "      <th>Sales</th>\n",
       "      <th>Quantity</th>\n",
       "      <th>Discount</th>\n",
       "      <th>Profit</th>\n",
       "    </tr>\n",
       "  </thead>\n",
       "  <tbody>\n",
       "    <tr>\n",
       "      <th>9989</th>\n",
       "      <td>CA-2014-110422</td>\n",
       "      <td>2014-01-21</td>\n",
       "      <td>2014-01-23</td>\n",
       "      <td>Second Class</td>\n",
       "      <td>TB-21400</td>\n",
       "      <td>Tom Boeckenhauer</td>\n",
       "      <td>Consumer</td>\n",
       "      <td>United States</td>\n",
       "      <td>Miami</td>\n",
       "      <td>Florida</td>\n",
       "      <td>33180</td>\n",
       "      <td>South</td>\n",
       "      <td>FUR-FU-10001889</td>\n",
       "      <td>Furniture</td>\n",
       "      <td>Furnishings</td>\n",
       "      <td>Ultra Door Pull Handle</td>\n",
       "      <td>25.248</td>\n",
       "      <td>3</td>\n",
       "      <td>0.2</td>\n",
       "      <td>4.1028</td>\n",
       "    </tr>\n",
       "    <tr>\n",
       "      <th>9990</th>\n",
       "      <td>CA-2017-121258</td>\n",
       "      <td>2017-02-26</td>\n",
       "      <td>2017-03-03</td>\n",
       "      <td>Standard Class</td>\n",
       "      <td>DB-13060</td>\n",
       "      <td>Dave Brooks</td>\n",
       "      <td>Consumer</td>\n",
       "      <td>United States</td>\n",
       "      <td>Costa Mesa</td>\n",
       "      <td>California</td>\n",
       "      <td>92627</td>\n",
       "      <td>West</td>\n",
       "      <td>FUR-FU-10000747</td>\n",
       "      <td>Furniture</td>\n",
       "      <td>Furnishings</td>\n",
       "      <td>Tenex B1-RE Series Chair Mats for Low Pile Car...</td>\n",
       "      <td>91.960</td>\n",
       "      <td>2</td>\n",
       "      <td>0.0</td>\n",
       "      <td>15.6332</td>\n",
       "    </tr>\n",
       "    <tr>\n",
       "      <th>9991</th>\n",
       "      <td>CA-2017-121258</td>\n",
       "      <td>2017-02-26</td>\n",
       "      <td>2017-03-03</td>\n",
       "      <td>Standard Class</td>\n",
       "      <td>DB-13060</td>\n",
       "      <td>Dave Brooks</td>\n",
       "      <td>Consumer</td>\n",
       "      <td>United States</td>\n",
       "      <td>Costa Mesa</td>\n",
       "      <td>California</td>\n",
       "      <td>92627</td>\n",
       "      <td>West</td>\n",
       "      <td>TEC-PH-10003645</td>\n",
       "      <td>Technology</td>\n",
       "      <td>Phones</td>\n",
       "      <td>Aastra 57i VoIP phone</td>\n",
       "      <td>258.576</td>\n",
       "      <td>2</td>\n",
       "      <td>0.2</td>\n",
       "      <td>19.3932</td>\n",
       "    </tr>\n",
       "    <tr>\n",
       "      <th>9992</th>\n",
       "      <td>CA-2017-121258</td>\n",
       "      <td>2017-02-26</td>\n",
       "      <td>2017-03-03</td>\n",
       "      <td>Standard Class</td>\n",
       "      <td>DB-13060</td>\n",
       "      <td>Dave Brooks</td>\n",
       "      <td>Consumer</td>\n",
       "      <td>United States</td>\n",
       "      <td>Costa Mesa</td>\n",
       "      <td>California</td>\n",
       "      <td>92627</td>\n",
       "      <td>West</td>\n",
       "      <td>OFF-PA-10004041</td>\n",
       "      <td>Office Supplies</td>\n",
       "      <td>Paper</td>\n",
       "      <td>It's Hot Message Books with Stickers, 2 3/4\" x 5\"</td>\n",
       "      <td>29.600</td>\n",
       "      <td>4</td>\n",
       "      <td>0.0</td>\n",
       "      <td>13.3200</td>\n",
       "    </tr>\n",
       "    <tr>\n",
       "      <th>9993</th>\n",
       "      <td>CA-2017-119914</td>\n",
       "      <td>2017-05-04</td>\n",
       "      <td>2017-05-09</td>\n",
       "      <td>Second Class</td>\n",
       "      <td>CC-12220</td>\n",
       "      <td>Chris Cortes</td>\n",
       "      <td>Consumer</td>\n",
       "      <td>United States</td>\n",
       "      <td>Westminster</td>\n",
       "      <td>California</td>\n",
       "      <td>92683</td>\n",
       "      <td>West</td>\n",
       "      <td>OFF-AP-10002684</td>\n",
       "      <td>Office Supplies</td>\n",
       "      <td>Appliances</td>\n",
       "      <td>Acco 7-Outlet Masterpiece Power Center, Wihtou...</td>\n",
       "      <td>243.160</td>\n",
       "      <td>2</td>\n",
       "      <td>0.0</td>\n",
       "      <td>72.9480</td>\n",
       "    </tr>\n",
       "  </tbody>\n",
       "</table>\n",
       "</div>"
      ],
      "text/plain": [
       "            Order ID Order Date  Ship Date       Ship Mode Customer ID  \\\n",
       "9989  CA-2014-110422 2014-01-21 2014-01-23    Second Class    TB-21400   \n",
       "9990  CA-2017-121258 2017-02-26 2017-03-03  Standard Class    DB-13060   \n",
       "9991  CA-2017-121258 2017-02-26 2017-03-03  Standard Class    DB-13060   \n",
       "9992  CA-2017-121258 2017-02-26 2017-03-03  Standard Class    DB-13060   \n",
       "9993  CA-2017-119914 2017-05-04 2017-05-09    Second Class    CC-12220   \n",
       "\n",
       "         Customer Name   Segment        Country         City       State  \\\n",
       "9989  Tom Boeckenhauer  Consumer  United States        Miami     Florida   \n",
       "9990       Dave Brooks  Consumer  United States   Costa Mesa  California   \n",
       "9991       Dave Brooks  Consumer  United States   Costa Mesa  California   \n",
       "9992       Dave Brooks  Consumer  United States   Costa Mesa  California   \n",
       "9993      Chris Cortes  Consumer  United States  Westminster  California   \n",
       "\n",
       "      Postal Code Region       Product ID         Category Sub-Category  \\\n",
       "9989        33180  South  FUR-FU-10001889        Furniture  Furnishings   \n",
       "9990        92627   West  FUR-FU-10000747        Furniture  Furnishings   \n",
       "9991        92627   West  TEC-PH-10003645       Technology       Phones   \n",
       "9992        92627   West  OFF-PA-10004041  Office Supplies        Paper   \n",
       "9993        92683   West  OFF-AP-10002684  Office Supplies   Appliances   \n",
       "\n",
       "                                           Product Name    Sales  Quantity  \\\n",
       "9989                             Ultra Door Pull Handle   25.248         3   \n",
       "9990  Tenex B1-RE Series Chair Mats for Low Pile Car...   91.960         2   \n",
       "9991                              Aastra 57i VoIP phone  258.576         2   \n",
       "9992  It's Hot Message Books with Stickers, 2 3/4\" x 5\"   29.600         4   \n",
       "9993  Acco 7-Outlet Masterpiece Power Center, Wihtou...  243.160         2   \n",
       "\n",
       "      Discount   Profit  \n",
       "9989       0.2   4.1028  \n",
       "9990       0.0  15.6332  \n",
       "9991       0.2  19.3932  \n",
       "9992       0.0  13.3200  \n",
       "9993       0.0  72.9480  "
      ]
     },
     "execution_count": 9,
     "metadata": {},
     "output_type": "execute_result"
    }
   ],
   "source": [
    "# show the last five data\n",
    "df_superstore.tail()"
   ]
  },
  {
   "cell_type": "code",
   "execution_count": 10,
   "id": "c10783b1-4bbf-4d6f-92c6-5ea099d1f149",
   "metadata": {},
   "outputs": [
    {
     "data": {
      "text/plain": [
       "(9994, 20)"
      ]
     },
     "execution_count": 10,
     "metadata": {},
     "output_type": "execute_result"
    }
   ],
   "source": [
    "#show the shape of the data \n",
    "df_superstore.shape"
   ]
  },
  {
   "cell_type": "code",
   "execution_count": 11,
   "id": "a1fcce2c-bb63-4ac5-9e72-c6203ea12a57",
   "metadata": {},
   "outputs": [],
   "source": [
    "# interpretation\n",
    "# we have a 9994 observation(rows).\n",
    "# we have a 20 attibutes(columns)."
   ]
  },
  {
   "cell_type": "code",
   "execution_count": 12,
   "id": "8b7da832-f954-4d5a-88bd-14413c464f38",
   "metadata": {},
   "outputs": [
    {
     "name": "stdout",
     "output_type": "stream",
     "text": [
      "<class 'pandas.core.frame.DataFrame'>\n",
      "RangeIndex: 9994 entries, 0 to 9993\n",
      "Data columns (total 20 columns):\n",
      " #   Column         Non-Null Count  Dtype         \n",
      "---  ------         --------------  -----         \n",
      " 0   Order ID       9994 non-null   object        \n",
      " 1   Order Date     9994 non-null   datetime64[ns]\n",
      " 2   Ship Date      9994 non-null   datetime64[ns]\n",
      " 3   Ship Mode      9994 non-null   object        \n",
      " 4   Customer ID    9994 non-null   object        \n",
      " 5   Customer Name  9994 non-null   object        \n",
      " 6   Segment        9994 non-null   object        \n",
      " 7   Country        9994 non-null   object        \n",
      " 8   City           9994 non-null   object        \n",
      " 9   State          9994 non-null   object        \n",
      " 10  Postal Code    9994 non-null   int64         \n",
      " 11  Region         9994 non-null   object        \n",
      " 12  Product ID     9994 non-null   object        \n",
      " 13  Category       9994 non-null   object        \n",
      " 14  Sub-Category   9994 non-null   object        \n",
      " 15  Product Name   9994 non-null   object        \n",
      " 16  Sales          9994 non-null   float64       \n",
      " 17  Quantity       9994 non-null   int64         \n",
      " 18  Discount       9994 non-null   float64       \n",
      " 19  Profit         9994 non-null   float64       \n",
      "dtypes: datetime64[ns](2), float64(3), int64(2), object(13)\n",
      "memory usage: 1.5+ MB\n"
     ]
    }
   ],
   "source": [
    "# show the data types of the data \n",
    "df_superstore.info()"
   ]
  },
  {
   "cell_type": "code",
   "execution_count": 13,
   "id": "6a55a62e-23be-4d80-a9dc-59e6ff97e2be",
   "metadata": {},
   "outputs": [],
   "source": [
    "# interpretation \n",
    "# we have two date time columns.\n",
    "# we have 5 numerical columns,out of the 3 are float and 2 are integer.\n",
    "# space acquired by the system is 1.5+mb.\n"
   ]
  },
  {
   "cell_type": "code",
   "execution_count": 14,
   "id": "deec692a-6c3c-42f1-8ec8-4c1391ecb959",
   "metadata": {},
   "outputs": [
    {
     "data": {
      "text/html": [
       "<div>\n",
       "<style scoped>\n",
       "    .dataframe tbody tr th:only-of-type {\n",
       "        vertical-align: middle;\n",
       "    }\n",
       "\n",
       "    .dataframe tbody tr th {\n",
       "        vertical-align: top;\n",
       "    }\n",
       "\n",
       "    .dataframe thead th {\n",
       "        text-align: right;\n",
       "    }\n",
       "</style>\n",
       "<table border=\"1\" class=\"dataframe\">\n",
       "  <thead>\n",
       "    <tr style=\"text-align: right;\">\n",
       "      <th></th>\n",
       "      <th>count</th>\n",
       "      <th>mean</th>\n",
       "      <th>min</th>\n",
       "      <th>25%</th>\n",
       "      <th>50%</th>\n",
       "      <th>75%</th>\n",
       "      <th>max</th>\n",
       "      <th>std</th>\n",
       "    </tr>\n",
       "  </thead>\n",
       "  <tbody>\n",
       "    <tr>\n",
       "      <th>Order Date</th>\n",
       "      <td>9994</td>\n",
       "      <td>2016-04-30 00:07:12.259355648</td>\n",
       "      <td>2014-01-03 00:00:00</td>\n",
       "      <td>2015-05-23 00:00:00</td>\n",
       "      <td>2016-06-26 00:00:00</td>\n",
       "      <td>2017-05-14 00:00:00</td>\n",
       "      <td>2017-12-30 00:00:00</td>\n",
       "      <td>NaN</td>\n",
       "    </tr>\n",
       "    <tr>\n",
       "      <th>Ship Date</th>\n",
       "      <td>9994</td>\n",
       "      <td>2016-05-03 23:06:58.571142912</td>\n",
       "      <td>2014-01-07 00:00:00</td>\n",
       "      <td>2015-05-27 00:00:00</td>\n",
       "      <td>2016-06-29 00:00:00</td>\n",
       "      <td>2017-05-18 00:00:00</td>\n",
       "      <td>2018-01-05 00:00:00</td>\n",
       "      <td>NaN</td>\n",
       "    </tr>\n",
       "    <tr>\n",
       "      <th>Postal Code</th>\n",
       "      <td>9994.0</td>\n",
       "      <td>55190.379428</td>\n",
       "      <td>1040.0</td>\n",
       "      <td>23223.0</td>\n",
       "      <td>56430.5</td>\n",
       "      <td>90008.0</td>\n",
       "      <td>99301.0</td>\n",
       "      <td>32063.69335</td>\n",
       "    </tr>\n",
       "    <tr>\n",
       "      <th>Sales</th>\n",
       "      <td>9994.0</td>\n",
       "      <td>229.858001</td>\n",
       "      <td>0.444</td>\n",
       "      <td>17.28</td>\n",
       "      <td>54.49</td>\n",
       "      <td>209.94</td>\n",
       "      <td>22638.48</td>\n",
       "      <td>623.245101</td>\n",
       "    </tr>\n",
       "    <tr>\n",
       "      <th>Quantity</th>\n",
       "      <td>9994.0</td>\n",
       "      <td>3.789574</td>\n",
       "      <td>1.0</td>\n",
       "      <td>2.0</td>\n",
       "      <td>3.0</td>\n",
       "      <td>5.0</td>\n",
       "      <td>14.0</td>\n",
       "      <td>2.22511</td>\n",
       "    </tr>\n",
       "    <tr>\n",
       "      <th>Discount</th>\n",
       "      <td>9994.0</td>\n",
       "      <td>0.156203</td>\n",
       "      <td>0.0</td>\n",
       "      <td>0.0</td>\n",
       "      <td>0.2</td>\n",
       "      <td>0.2</td>\n",
       "      <td>0.8</td>\n",
       "      <td>0.206452</td>\n",
       "    </tr>\n",
       "    <tr>\n",
       "      <th>Profit</th>\n",
       "      <td>9994.0</td>\n",
       "      <td>28.656896</td>\n",
       "      <td>-6599.978</td>\n",
       "      <td>1.72875</td>\n",
       "      <td>8.6665</td>\n",
       "      <td>29.364</td>\n",
       "      <td>8399.976</td>\n",
       "      <td>234.260108</td>\n",
       "    </tr>\n",
       "  </tbody>\n",
       "</table>\n",
       "</div>"
      ],
      "text/plain": [
       "              count                           mean                  min  \\\n",
       "Order Date     9994  2016-04-30 00:07:12.259355648  2014-01-03 00:00:00   \n",
       "Ship Date      9994  2016-05-03 23:06:58.571142912  2014-01-07 00:00:00   \n",
       "Postal Code  9994.0                   55190.379428               1040.0   \n",
       "Sales        9994.0                     229.858001                0.444   \n",
       "Quantity     9994.0                       3.789574                  1.0   \n",
       "Discount     9994.0                       0.156203                  0.0   \n",
       "Profit       9994.0                      28.656896            -6599.978   \n",
       "\n",
       "                             25%                  50%                  75%  \\\n",
       "Order Date   2015-05-23 00:00:00  2016-06-26 00:00:00  2017-05-14 00:00:00   \n",
       "Ship Date    2015-05-27 00:00:00  2016-06-29 00:00:00  2017-05-18 00:00:00   \n",
       "Postal Code              23223.0              56430.5              90008.0   \n",
       "Sales                      17.28                54.49               209.94   \n",
       "Quantity                     2.0                  3.0                  5.0   \n",
       "Discount                     0.0                  0.2                  0.2   \n",
       "Profit                   1.72875               8.6665               29.364   \n",
       "\n",
       "                             max          std  \n",
       "Order Date   2017-12-30 00:00:00          NaN  \n",
       "Ship Date    2018-01-05 00:00:00          NaN  \n",
       "Postal Code              99301.0  32063.69335  \n",
       "Sales                   22638.48   623.245101  \n",
       "Quantity                    14.0      2.22511  \n",
       "Discount                     0.8     0.206452  \n",
       "Profit                  8399.976   234.260108  "
      ]
     },
     "execution_count": 14,
     "metadata": {},
     "output_type": "execute_result"
    }
   ],
   "source": [
    "# show me basic statistic of the data \n",
    "df_superstore.describe().T"
   ]
  },
  {
   "cell_type": "code",
   "execution_count": 15,
   "id": "b6c0ef33-6454-48c5-8393-e897063e0cc5",
   "metadata": {},
   "outputs": [],
   "source": [
    "# interpretation\n",
    "# we have the outliers sales and profit column.\n",
    "# there is no use to find outliers in postal code column."
   ]
  },
  {
   "cell_type": "markdown",
   "id": "73f2f334-47bc-4234-9466-4a48a645981a",
   "metadata": {},
   "source": [
    "# data preprocessing "
   ]
  },
  {
   "cell_type": "markdown",
   "id": "1a14f314-404f-4e5d-8809-74fc0df0fba2",
   "metadata": {},
   "source": [
    "## data cleaning"
   ]
  },
  {
   "cell_type": "code",
   "execution_count": 18,
   "id": "65604833-020c-4209-8943-0f8a488cbe43",
   "metadata": {},
   "outputs": [
    {
     "data": {
      "text/plain": [
       "Index(['Order ID', 'Order Date', 'Ship Date', 'Ship Mode', 'Customer ID',\n",
       "       'Customer Name', 'Segment', 'Country', 'City', 'State', 'Postal Code',\n",
       "       'Region', 'Product ID', 'Category', 'Sub-Category', 'Product Name',\n",
       "       'Sales', 'Quantity', 'Discount', 'Profit'],\n",
       "      dtype='object')"
      ]
     },
     "execution_count": 18,
     "metadata": {},
     "output_type": "execute_result"
    }
   ],
   "source": [
    "# perform the rename option.\n",
    "df_superstore.columns\n"
   ]
  },
  {
   "cell_type": "code",
   "execution_count": 19,
   "id": "6456a5c7-41b8-4389-bb90-6fd5aa490746",
   "metadata": {},
   "outputs": [],
   "source": [
    "# make a directory who represent old columns and new columnns\n",
    "directory = {'Order ID': 'Order_ID',\n",
    "             'Order date':'Order_Date',\n",
    "             'Ship Date':'Ship_Date',\n",
    "             'Ship Mode': 'Ship_Mode',\n",
    "             'Customer ID': 'Customer_ID',\n",
    "             'Customer Name':'Customer_Name',\n",
    "             'Postal Code' : 'Postal_Code',\n",
    "             'Product ID': 'Product_ID',\n",
    "             'Sub-Category': 'Sub_Category',\n",
    "             'Product Name': 'Product_Name'}\n"
   ]
  },
  {
   "cell_type": "code",
   "execution_count": 20,
   "id": "40730c3a-4aea-47ea-8b63-bea8b1b55b0a",
   "metadata": {},
   "outputs": [],
   "source": [
    "# renaming \n",
    "df_superstore = df_superstore.rename(columns=directory)"
   ]
  },
  {
   "cell_type": "code",
   "execution_count": 21,
   "id": "9cb9a6f0-77dc-4c51-beb8-3fac6bc1aaa8",
   "metadata": {},
   "outputs": [
    {
     "data": {
      "text/plain": [
       "Index(['Order_ID', 'Order Date', 'Ship_Date', 'Ship_Mode', 'Customer_ID',\n",
       "       'Customer_Name', 'Segment', 'Country', 'City', 'State', 'Postal_Code',\n",
       "       'Region', 'Product_ID', 'Category', 'Sub_Category', 'Product_Name',\n",
       "       'Sales', 'Quantity', 'Discount', 'Profit'],\n",
       "      dtype='object')"
      ]
     },
     "execution_count": 21,
     "metadata": {},
     "output_type": "execute_result"
    }
   ],
   "source": [
    "# do automatic check\n",
    "df_superstore.columns"
   ]
  },
  {
   "cell_type": "code",
   "execution_count": 22,
   "id": "36fbf21a-24c9-4ae9-92d3-2f0d3d6b27e4",
   "metadata": {},
   "outputs": [],
   "source": [
    "# (assignment)generate the logic who  defines improper behaviour in the data  "
   ]
  },
  {
   "cell_type": "markdown",
   "id": "57f0fdff-eba7-4f8a-a686-ec860c459390",
   "metadata": {},
   "source": [
    "## b. null value treatment \n"
   ]
  },
  {
   "cell_type": "code",
   "execution_count": 24,
   "id": "8fb34a90-dbd6-4062-83e2-1fbacbcfd510",
   "metadata": {},
   "outputs": [
    {
     "data": {
      "text/plain": [
       "Order_ID         0\n",
       "Order Date       0\n",
       "Ship_Date        0\n",
       "Ship_Mode        0\n",
       "Customer_ID      0\n",
       "Customer_Name    0\n",
       "Segment          0\n",
       "Country          0\n",
       "City             0\n",
       "State            0\n",
       "Postal_Code      0\n",
       "Region           0\n",
       "Product_ID       0\n",
       "Category         0\n",
       "Sub_Category     0\n",
       "Product_Name     0\n",
       "Sales            0\n",
       "Quantity         0\n",
       "Discount         0\n",
       "Profit           0\n",
       "dtype: int64"
      ]
     },
     "execution_count": 24,
     "metadata": {},
     "output_type": "execute_result"
    }
   ],
   "source": [
    "# find the number of missing records in the data \n",
    "df_superstore.isnull().sum()"
   ]
  },
  {
   "cell_type": "code",
   "execution_count": 25,
   "id": "ff0edca9-1a04-4db7-a9a1-204330178393",
   "metadata": {},
   "outputs": [
    {
     "data": {
      "text/plain": [
       "Order_ID         0.0\n",
       "Order Date       0.0\n",
       "Ship_Date        0.0\n",
       "Ship_Mode        0.0\n",
       "Customer_ID      0.0\n",
       "Customer_Name    0.0\n",
       "Segment          0.0\n",
       "Country          0.0\n",
       "City             0.0\n",
       "State            0.0\n",
       "Postal_Code      0.0\n",
       "Region           0.0\n",
       "Product_ID       0.0\n",
       "Category         0.0\n",
       "Sub_Category     0.0\n",
       "Product_Name     0.0\n",
       "Sales            0.0\n",
       "Quantity         0.0\n",
       "Discount         0.0\n",
       "Profit           0.0\n",
       "dtype: float64"
      ]
     },
     "execution_count": 25,
     "metadata": {},
     "output_type": "execute_result"
    }
   ],
   "source": [
    "# find the percentage of missing records \n",
    "df_superstore.isnull().sum()/len(df_superstore)*100"
   ]
  },
  {
   "cell_type": "raw",
   "id": "5be7010e-539c-4c84-bca8-7be236244c98",
   "metadata": {},
   "source": [
    "conditions(lows)\n",
    "if we have >10% is missing then remove the observation\n",
    "if we have mising percenatge between 15 to 70% then impute the null records \n",
    "if we have <75% data is missing then remove the attributes\n",
    "\n",
    "if imputation is there then \n",
    "categorical columns--> impute missing record with mode of the columns \n",
    "numerical columns --> impute the missing records with mean of the column\n",
    "\n",
    "note: in some cases when we have numerical column then impute missing records with median of the column\n"
   ]
  },
  {
   "cell_type": "markdown",
   "id": "09759969-1e6f-43c0-b923-e2385aee590a",
   "metadata": {},
   "source": [
    "# eda (exploratry data analysis \n"
   ]
  },
  {
   "cell_type": "raw",
   "id": "86562b93-601d-4921-9a62-686189d71635",
   "metadata": {},
   "source": [
    "eda is methodology that help as to explore the data for taking and inforence who responsible for decision making \n",
    "univariate analysis - single varibale used \n",
    "ex. when we have single numericale column histogram or kda  plot.\n",
    "when we have single categorical colunmn plot a count plot.\n",
    "\n",
    "bivariate analysis - when we took two columns at a time for analytics is called bivariate analytics.\n",
    "for findinfg the appropiate pair first we neeed to find correlation between variables(columns).\n",
    "-value between 0.7 - 1 --> positively correlated. \n",
    "value between -0.7  - -1 negatively correlated.\n",
    "\n",
    "if we have 2 njmericsl variable plot an scatter plot.\n",
    "if we have one numerical and one categarical varibale plot an bar graph.\n",
    "if we have one date time column and one numerical column we plot an line graph .\n",
    "\n",
    "multivariate analysis - when we took two column more then 3 column at a time anaylsis is called multivariate analysis. \n",
    "in multivaritae analysis pivot table or cross-tab.\n",
    "\n",
    "\n"
   ]
  },
  {
   "cell_type": "markdown",
   "id": "94ada3da-fa78-488f-a632-5d8bb610247e",
   "metadata": {},
   "source": [
    "### univariate analysis"
   ]
  },
  {
   "cell_type": "code",
   "execution_count": 54,
   "id": "6cd6db2b-6803-4d0c-9307-29468ed2546e",
   "metadata": {},
   "outputs": [
    {
     "data": {
      "text/html": [
       "<div>\n",
       "<style scoped>\n",
       "    .dataframe tbody tr th:only-of-type {\n",
       "        vertical-align: middle;\n",
       "    }\n",
       "\n",
       "    .dataframe tbody tr th {\n",
       "        vertical-align: top;\n",
       "    }\n",
       "\n",
       "    .dataframe thead th {\n",
       "        text-align: right;\n",
       "    }\n",
       "</style>\n",
       "<table border=\"1\" class=\"dataframe\">\n",
       "  <thead>\n",
       "    <tr style=\"text-align: right;\">\n",
       "      <th></th>\n",
       "      <th>Postal_Code</th>\n",
       "      <th>Sales</th>\n",
       "      <th>Quantity</th>\n",
       "      <th>Discount</th>\n",
       "      <th>Profit</th>\n",
       "    </tr>\n",
       "  </thead>\n",
       "  <tbody>\n",
       "    <tr>\n",
       "      <th>0</th>\n",
       "      <td>42420</td>\n",
       "      <td>261.9600</td>\n",
       "      <td>2</td>\n",
       "      <td>0.00</td>\n",
       "      <td>41.9136</td>\n",
       "    </tr>\n",
       "    <tr>\n",
       "      <th>1</th>\n",
       "      <td>42420</td>\n",
       "      <td>731.9400</td>\n",
       "      <td>3</td>\n",
       "      <td>0.00</td>\n",
       "      <td>219.5820</td>\n",
       "    </tr>\n",
       "    <tr>\n",
       "      <th>2</th>\n",
       "      <td>90036</td>\n",
       "      <td>14.6200</td>\n",
       "      <td>2</td>\n",
       "      <td>0.00</td>\n",
       "      <td>6.8714</td>\n",
       "    </tr>\n",
       "    <tr>\n",
       "      <th>3</th>\n",
       "      <td>33311</td>\n",
       "      <td>957.5775</td>\n",
       "      <td>5</td>\n",
       "      <td>0.45</td>\n",
       "      <td>-383.0310</td>\n",
       "    </tr>\n",
       "    <tr>\n",
       "      <th>4</th>\n",
       "      <td>33311</td>\n",
       "      <td>22.3680</td>\n",
       "      <td>2</td>\n",
       "      <td>0.20</td>\n",
       "      <td>2.5164</td>\n",
       "    </tr>\n",
       "  </tbody>\n",
       "</table>\n",
       "</div>"
      ],
      "text/plain": [
       "   Postal_Code     Sales  Quantity  Discount    Profit\n",
       "0        42420  261.9600         2      0.00   41.9136\n",
       "1        42420  731.9400         3      0.00  219.5820\n",
       "2        90036   14.6200         2      0.00    6.8714\n",
       "3        33311  957.5775         5      0.45 -383.0310\n",
       "4        33311   22.3680         2      0.20    2.5164"
      ]
     },
     "execution_count": 54,
     "metadata": {},
     "output_type": "execute_result"
    }
   ],
   "source": [
    "# segrigate the the dat based on data type \n",
    "df_num = df_superstore.select_dtypes(include='number')\n",
    "df_num.head()\n"
   ]
  },
  {
   "cell_type": "code",
   "execution_count": 56,
   "id": "af1a1ac5-1e55-4ed8-bd77-7ce219b6b78b",
   "metadata": {},
   "outputs": [
    {
     "data": {
      "text/html": [
       "<div>\n",
       "<style scoped>\n",
       "    .dataframe tbody tr th:only-of-type {\n",
       "        vertical-align: middle;\n",
       "    }\n",
       "\n",
       "    .dataframe tbody tr th {\n",
       "        vertical-align: top;\n",
       "    }\n",
       "\n",
       "    .dataframe thead th {\n",
       "        text-align: right;\n",
       "    }\n",
       "</style>\n",
       "<table border=\"1\" class=\"dataframe\">\n",
       "  <thead>\n",
       "    <tr style=\"text-align: right;\">\n",
       "      <th></th>\n",
       "      <th>Order_ID</th>\n",
       "      <th>Ship_Mode</th>\n",
       "      <th>Customer_ID</th>\n",
       "      <th>Customer_Name</th>\n",
       "      <th>Segment</th>\n",
       "      <th>Country</th>\n",
       "      <th>City</th>\n",
       "      <th>State</th>\n",
       "      <th>Region</th>\n",
       "      <th>Product_ID</th>\n",
       "      <th>Category</th>\n",
       "      <th>Sub_Category</th>\n",
       "      <th>Product_Name</th>\n",
       "    </tr>\n",
       "  </thead>\n",
       "  <tbody>\n",
       "    <tr>\n",
       "      <th>0</th>\n",
       "      <td>CA-2016-152156</td>\n",
       "      <td>Second Class</td>\n",
       "      <td>CG-12520</td>\n",
       "      <td>Claire Gute</td>\n",
       "      <td>Consumer</td>\n",
       "      <td>United States</td>\n",
       "      <td>Henderson</td>\n",
       "      <td>Kentucky</td>\n",
       "      <td>South</td>\n",
       "      <td>FUR-BO-10001798</td>\n",
       "      <td>Furniture</td>\n",
       "      <td>Bookcases</td>\n",
       "      <td>Bush Somerset Collection Bookcase</td>\n",
       "    </tr>\n",
       "    <tr>\n",
       "      <th>1</th>\n",
       "      <td>CA-2016-152156</td>\n",
       "      <td>Second Class</td>\n",
       "      <td>CG-12520</td>\n",
       "      <td>Claire Gute</td>\n",
       "      <td>Consumer</td>\n",
       "      <td>United States</td>\n",
       "      <td>Henderson</td>\n",
       "      <td>Kentucky</td>\n",
       "      <td>South</td>\n",
       "      <td>FUR-CH-10000454</td>\n",
       "      <td>Furniture</td>\n",
       "      <td>Chairs</td>\n",
       "      <td>Hon Deluxe Fabric Upholstered Stacking Chairs,...</td>\n",
       "    </tr>\n",
       "    <tr>\n",
       "      <th>2</th>\n",
       "      <td>CA-2016-138688</td>\n",
       "      <td>Second Class</td>\n",
       "      <td>DV-13045</td>\n",
       "      <td>Darrin Van Huff</td>\n",
       "      <td>Corporate</td>\n",
       "      <td>United States</td>\n",
       "      <td>Los Angeles</td>\n",
       "      <td>California</td>\n",
       "      <td>West</td>\n",
       "      <td>OFF-LA-10000240</td>\n",
       "      <td>Office Supplies</td>\n",
       "      <td>Labels</td>\n",
       "      <td>Self-Adhesive Address Labels for Typewriters b...</td>\n",
       "    </tr>\n",
       "    <tr>\n",
       "      <th>3</th>\n",
       "      <td>US-2015-108966</td>\n",
       "      <td>Standard Class</td>\n",
       "      <td>SO-20335</td>\n",
       "      <td>Sean O'Donnell</td>\n",
       "      <td>Consumer</td>\n",
       "      <td>United States</td>\n",
       "      <td>Fort Lauderdale</td>\n",
       "      <td>Florida</td>\n",
       "      <td>South</td>\n",
       "      <td>FUR-TA-10000577</td>\n",
       "      <td>Furniture</td>\n",
       "      <td>Tables</td>\n",
       "      <td>Bretford CR4500 Series Slim Rectangular Table</td>\n",
       "    </tr>\n",
       "    <tr>\n",
       "      <th>4</th>\n",
       "      <td>US-2015-108966</td>\n",
       "      <td>Standard Class</td>\n",
       "      <td>SO-20335</td>\n",
       "      <td>Sean O'Donnell</td>\n",
       "      <td>Consumer</td>\n",
       "      <td>United States</td>\n",
       "      <td>Fort Lauderdale</td>\n",
       "      <td>Florida</td>\n",
       "      <td>South</td>\n",
       "      <td>OFF-ST-10000760</td>\n",
       "      <td>Office Supplies</td>\n",
       "      <td>Storage</td>\n",
       "      <td>Eldon Fold 'N Roll Cart System</td>\n",
       "    </tr>\n",
       "  </tbody>\n",
       "</table>\n",
       "</div>"
      ],
      "text/plain": [
       "         Order_ID       Ship_Mode Customer_ID    Customer_Name    Segment  \\\n",
       "0  CA-2016-152156    Second Class    CG-12520      Claire Gute   Consumer   \n",
       "1  CA-2016-152156    Second Class    CG-12520      Claire Gute   Consumer   \n",
       "2  CA-2016-138688    Second Class    DV-13045  Darrin Van Huff  Corporate   \n",
       "3  US-2015-108966  Standard Class    SO-20335   Sean O'Donnell   Consumer   \n",
       "4  US-2015-108966  Standard Class    SO-20335   Sean O'Donnell   Consumer   \n",
       "\n",
       "         Country             City       State Region       Product_ID  \\\n",
       "0  United States        Henderson    Kentucky  South  FUR-BO-10001798   \n",
       "1  United States        Henderson    Kentucky  South  FUR-CH-10000454   \n",
       "2  United States      Los Angeles  California   West  OFF-LA-10000240   \n",
       "3  United States  Fort Lauderdale     Florida  South  FUR-TA-10000577   \n",
       "4  United States  Fort Lauderdale     Florida  South  OFF-ST-10000760   \n",
       "\n",
       "          Category Sub_Category  \\\n",
       "0        Furniture    Bookcases   \n",
       "1        Furniture       Chairs   \n",
       "2  Office Supplies       Labels   \n",
       "3        Furniture       Tables   \n",
       "4  Office Supplies      Storage   \n",
       "\n",
       "                                        Product_Name  \n",
       "0                  Bush Somerset Collection Bookcase  \n",
       "1  Hon Deluxe Fabric Upholstered Stacking Chairs,...  \n",
       "2  Self-Adhesive Address Labels for Typewriters b...  \n",
       "3      Bretford CR4500 Series Slim Rectangular Table  \n",
       "4                     Eldon Fold 'N Roll Cart System  "
      ]
     },
     "execution_count": 56,
     "metadata": {},
     "output_type": "execute_result"
    }
   ],
   "source": [
    "df_cat = df_superstore.select_dtypes(include='object')\n",
    "df_cat.head()"
   ]
  },
  {
   "cell_type": "markdown",
   "id": "634bc432-5a9d-486e-a080-e1f37a28569a",
   "metadata": {},
   "source": [
    "#### univariate analysis on numerical data "
   ]
  },
  {
   "cell_type": "code",
   "execution_count": 59,
   "id": "67d8696c-e911-4429-9aad-a6eb37a2bbdb",
   "metadata": {},
   "outputs": [
    {
     "data": {
      "text/html": [
       "<div>\n",
       "<style scoped>\n",
       "    .dataframe tbody tr th:only-of-type {\n",
       "        vertical-align: middle;\n",
       "    }\n",
       "\n",
       "    .dataframe tbody tr th {\n",
       "        vertical-align: top;\n",
       "    }\n",
       "\n",
       "    .dataframe thead th {\n",
       "        text-align: right;\n",
       "    }\n",
       "</style>\n",
       "<table border=\"1\" class=\"dataframe\">\n",
       "  <thead>\n",
       "    <tr style=\"text-align: right;\">\n",
       "      <th></th>\n",
       "      <th>Postal_Code</th>\n",
       "      <th>Sales</th>\n",
       "      <th>Quantity</th>\n",
       "      <th>Discount</th>\n",
       "      <th>Profit</th>\n",
       "    </tr>\n",
       "  </thead>\n",
       "  <tbody>\n",
       "    <tr>\n",
       "      <th>0</th>\n",
       "      <td>42420</td>\n",
       "      <td>261.96</td>\n",
       "      <td>2</td>\n",
       "      <td>0.0</td>\n",
       "      <td>41.9136</td>\n",
       "    </tr>\n",
       "    <tr>\n",
       "      <th>1</th>\n",
       "      <td>42420</td>\n",
       "      <td>731.94</td>\n",
       "      <td>3</td>\n",
       "      <td>0.0</td>\n",
       "      <td>219.5820</td>\n",
       "    </tr>\n",
       "  </tbody>\n",
       "</table>\n",
       "</div>"
      ],
      "text/plain": [
       "   Postal_Code   Sales  Quantity  Discount    Profit\n",
       "0        42420  261.96         2       0.0   41.9136\n",
       "1        42420  731.94         3       0.0  219.5820"
      ]
     },
     "execution_count": 59,
     "metadata": {},
     "output_type": "execute_result"
    }
   ],
   "source": [
    "df_num.head(2)"
   ]
  },
  {
   "cell_type": "code",
   "execution_count": 61,
   "id": "bb7aacf5-e145-4e8c-88af-c38bf2a7a071",
   "metadata": {},
   "outputs": [
    {
     "data": {
      "text/plain": [
       "Index(['Postal_Code', 'Sales', 'Quantity', 'Discount', 'Profit'], dtype='object')"
      ]
     },
     "execution_count": 61,
     "metadata": {},
     "output_type": "execute_result"
    }
   ],
   "source": [
    "# show the columns \n",
    "df_num.columns"
   ]
  },
  {
   "cell_type": "markdown",
   "id": "928d079c-4072-4e22-81c0-d6bbf547db51",
   "metadata": {},
   "source": [
    "####  sales "
   ]
  },
  {
   "cell_type": "code",
   "execution_count": 71,
   "id": "da970c0c-8937-465a-8127-b0c906b19ddd",
   "metadata": {},
   "outputs": [
    {
     "data": {
      "text/plain": [
       "0.444"
      ]
     },
     "execution_count": 71,
     "metadata": {},
     "output_type": "execute_result"
    }
   ],
   "source": [
    "# find the minimum \n",
    "round(df_num.Sales.min(),3)"
   ]
  },
  {
   "cell_type": "code",
   "execution_count": 76,
   "id": "9b706007-7a45-450c-a7cd-dad3ede99e03",
   "metadata": {},
   "outputs": [
    {
     "data": {
      "text/plain": [
       "22638.48"
      ]
     },
     "execution_count": 76,
     "metadata": {},
     "output_type": "execute_result"
    }
   ],
   "source": [
    "# find maximum\n",
    "round(df_num.Sales.max(),3)"
   ]
  },
  {
   "cell_type": "code",
   "execution_count": 82,
   "id": "b37c7ff7-9b7b-4e80-82c3-12a57688a4d1",
   "metadata": {},
   "outputs": [
    {
     "data": {
      "text/plain": [
       "229.858"
      ]
     },
     "execution_count": 82,
     "metadata": {},
     "output_type": "execute_result"
    }
   ],
   "source": [
    "# find the average \n",
    "round(df_num.Sales.mean(),3)"
   ]
  },
  {
   "cell_type": "code",
   "execution_count": 183,
   "id": "8800c8d3-9d5f-479f-b7ec-6c4b06dc7dbb",
   "metadata": {},
   "outputs": [
    {
     "data": {
      "text/plain": [
       "Text(0.5, 0, 'SALES')"
      ]
     },
     "execution_count": 183,
     "metadata": {},
     "output_type": "execute_result"
    },
    {
     "data": {
      "image/png": "[encoded data removed]",
      "text/plain": [
       "<Figure size 640x480 with 1 Axes>"
      ]
     },
     "metadata": {},
     "output_type": "display_data"
    }
   ],
   "source": [
    "# draw a distribution \n",
    "df_superstore.Sales.plot(kind = 'kde',color = 'blue')\n",
    "plt.grid()\n",
    "plt.title('DISTRIBTION OF SALES')\n",
    "plt.xlabel('SALES')"
   ]
  },
  {
   "cell_type": "code",
   "execution_count": 105,
   "id": "2ae070c0-667c-49f6-a082-ad717cab2cf3",
   "metadata": {},
   "outputs": [],
   "source": [
    "# inference \n",
    "# minimun sasles we have 0.444\n",
    "# maximum sales we have 22638.48\n",
    "# average sales we have 229.858\n",
    "# data is not normally dustributed\n",
    "\n"
   ]
  },
  {
   "cell_type": "code",
   "execution_count": 107,
   "id": "2e533e75-c175-4bb9-a6e0-48c1a0bcec70",
   "metadata": {},
   "outputs": [
    {
     "data": {
      "text/plain": [
       "Index(['Postal_Code', 'Sales', 'Quantity', 'Discount', 'Profit'], dtype='object')"
      ]
     },
     "execution_count": 107,
     "metadata": {},
     "output_type": "execute_result"
    }
   ],
   "source": [
    "df_num.columns"
   ]
  },
  {
   "cell_type": "code",
   "execution_count": 109,
   "id": "53190e40-ef46-482a-b0f4-f05eb585dfe9",
   "metadata": {},
   "outputs": [
    {
     "data": {
      "text/plain": [
       "1"
      ]
     },
     "execution_count": 109,
     "metadata": {},
     "output_type": "execute_result"
    }
   ],
   "source": [
    "# find the minimum \n",
    "round(df_num.Quantity.min(),3)"
   ]
  },
  {
   "cell_type": "code",
   "execution_count": 111,
   "id": "3014a204-db1d-4123-80c4-83936a8fe744",
   "metadata": {},
   "outputs": [
    {
     "data": {
      "text/plain": [
       "14"
      ]
     },
     "execution_count": 111,
     "metadata": {},
     "output_type": "execute_result"
    }
   ],
   "source": [
    "# find maximum\n",
    "round(df_num.Quantity.max(),3)"
   ]
  },
  {
   "cell_type": "code",
   "execution_count": 113,
   "id": "a8ad53e1-3d7d-4711-8f39-fdb39f835626",
   "metadata": {},
   "outputs": [
    {
     "data": {
      "text/plain": [
       "3.79"
      ]
     },
     "execution_count": 113,
     "metadata": {},
     "output_type": "execute_result"
    }
   ],
   "source": [
    "# find the average \n",
    "round(df_num.Quantity.mean(),3)"
   ]
  },
  {
   "cell_type": "code",
   "execution_count": 181,
   "id": "d543c8dd-d37e-463e-922b-3523e904515b",
   "metadata": {},
   "outputs": [
    {
     "data": {
      "text/plain": [
       "Text(0.5, 0, 'QANTITY')"
      ]
     },
     "execution_count": 181,
     "metadata": {},
     "output_type": "execute_result"
    },
    {
     "data": {
      "image/png": "[encoded data removed]",
      "text/plain": [
       "<Figure size 640x480 with 1 Axes>"
      ]
     },
     "metadata": {},
     "output_type": "display_data"
    }
   ],
   "source": [
    "# draw a distribution \n",
    "df_superstore.Quantity.plot(kind = 'kde',color = 'blue')\n",
    "plt.grid()\n",
    "plt.title('DISTRIBUTION OF QUANTITY')\n",
    "plt.xlabel('QANTITY')"
   ]
  },
  {
   "cell_type": "code",
   "execution_count": 117,
   "id": "03143159-e720-44eb-b03a-da0bc0a12ba2",
   "metadata": {},
   "outputs": [],
   "source": [
    "# inference \n",
    "# minimun sasles we have 1\n",
    "# maximum sales we have 14\n",
    "# average sales we have 3.79\n",
    "# data is multimodel\n"
   ]
  },
  {
   "cell_type": "code",
   "execution_count": 119,
   "id": "24b50097-5d4d-4f49-8ffd-fbfb1eead789",
   "metadata": {},
   "outputs": [
    {
     "data": {
      "text/plain": [
       "Index(['Postal_Code', 'Sales', 'Quantity', 'Discount', 'Profit'], dtype='object')"
      ]
     },
     "execution_count": 119,
     "metadata": {},
     "output_type": "execute_result"
    }
   ],
   "source": [
    "df_num.columns"
   ]
  },
  {
   "cell_type": "code",
   "execution_count": 121,
   "id": "28acb318-fe3f-4f51-b643-32e4d3e8e281",
   "metadata": {},
   "outputs": [
    {
     "data": {
      "text/plain": [
       "0.0"
      ]
     },
     "execution_count": 121,
     "metadata": {},
     "output_type": "execute_result"
    }
   ],
   "source": [
    "# find the minimum \n",
    "round(df_num.Discount.min(),3)"
   ]
  },
  {
   "cell_type": "code",
   "execution_count": 125,
   "id": "cf109b90-5029-4ac6-81e8-372aba7e2ca6",
   "metadata": {},
   "outputs": [
    {
     "data": {
      "text/plain": [
       "0.8"
      ]
     },
     "execution_count": 125,
     "metadata": {},
     "output_type": "execute_result"
    }
   ],
   "source": [
    "# find maximum\n",
    "round(df_num.Discount.max(),3)"
   ]
  },
  {
   "cell_type": "code",
   "execution_count": 127,
   "id": "d05c31c8-4ea1-493a-8066-0196d75db50f",
   "metadata": {},
   "outputs": [
    {
     "data": {
      "text/plain": [
       "0.156"
      ]
     },
     "execution_count": 127,
     "metadata": {},
     "output_type": "execute_result"
    }
   ],
   "source": [
    "# find the average \n",
    "round(df_num.Discount.mean(),3)"
   ]
  },
  {
   "cell_type": "code",
   "execution_count": 179,
   "id": "89c51343-b310-4d2f-b5bd-8dabbc6d1f2d",
   "metadata": {},
   "outputs": [
    {
     "data": {
      "text/plain": [
       "Text(0.5, 0, 'DISCOUNT')"
      ]
     },
     "execution_count": 179,
     "metadata": {},
     "output_type": "execute_result"
    },
    {
     "data": {
      "image/png": "[encoded data removed]",
      "text/plain": [
       "<Figure size 640x480 with 1 Axes>"
      ]
     },
     "metadata": {},
     "output_type": "display_data"
    }
   ],
   "source": [
    "# draw a distribution \n",
    "df_superstore.Discount.plot(kind = 'kde',color = 'blue')\n",
    "plt.grid()\n",
    "plt.title('DISTRIBUTION OF DISCOUNT')\n",
    "plt.xlabel('DISCOUNT')"
   ]
  },
  {
   "cell_type": "code",
   "execution_count": 135,
   "id": "c367e39f-47d8-4d13-86f0-0cbf785229b1",
   "metadata": {},
   "outputs": [],
   "source": [
    "# inference \n",
    "# minimun sasles we have 0.0\n",
    "# maximum sales we have 0.8\n",
    "# average sales we have 0.156\n",
    "# data is multimodel"
   ]
  },
  {
   "cell_type": "code",
   "execution_count": 137,
   "id": "71be4179-b58e-480a-b8d0-b6f30313f81a",
   "metadata": {},
   "outputs": [
    {
     "data": {
      "text/plain": [
       "Index(['Postal_Code', 'Sales', 'Quantity', 'Discount', 'Profit'], dtype='object')"
      ]
     },
     "execution_count": 137,
     "metadata": {},
     "output_type": "execute_result"
    }
   ],
   "source": [
    "df_num.columns\n"
   ]
  },
  {
   "cell_type": "code",
   "execution_count": 139,
   "id": "54f4890e-e196-44ea-900e-aa528a6b62c9",
   "metadata": {},
   "outputs": [
    {
     "data": {
      "text/plain": [
       "-6599.978"
      ]
     },
     "execution_count": 139,
     "metadata": {},
     "output_type": "execute_result"
    }
   ],
   "source": [
    "# find the minimum \n",
    "round(df_num.Profit.min(),3)\n"
   ]
  },
  {
   "cell_type": "code",
   "execution_count": 141,
   "id": "5e40f451-9c37-40cd-93fd-22826bbae33d",
   "metadata": {},
   "outputs": [
    {
     "data": {
      "text/plain": [
       "8399.976"
      ]
     },
     "execution_count": 141,
     "metadata": {},
     "output_type": "execute_result"
    }
   ],
   "source": [
    "# find maximum\n",
    "round(df_num.Profit.max(),3)\n"
   ]
  },
  {
   "cell_type": "code",
   "execution_count": 143,
   "id": "ebbf9af2-b27c-4ff6-8937-8c0bb87ff998",
   "metadata": {},
   "outputs": [
    {
     "data": {
      "text/plain": [
       "28.657"
      ]
     },
     "execution_count": 143,
     "metadata": {},
     "output_type": "execute_result"
    }
   ],
   "source": [
    "# find the average \n",
    "round(df_num.Profit.mean(),3)"
   ]
  },
  {
   "cell_type": "code",
   "execution_count": 175,
   "id": "0b5d99fa-875c-4db4-898e-e72134959434",
   "metadata": {},
   "outputs": [
    {
     "data": {
      "text/plain": [
       "Text(0.5, 0, 'PROFIT')"
      ]
     },
     "execution_count": 175,
     "metadata": {},
     "output_type": "execute_result"
    },
    {
     "data": {
      "image/png": "[encoded data removed]",
      "text/plain": [
       "<Figure size 640x480 with 1 Axes>"
      ]
     },
     "metadata": {},
     "output_type": "display_data"
    }
   ],
   "source": [
    "# draw a distribution \n",
    "df_superstore.Profit.plot(kind = 'kde',color = 'blue')\n",
    "plt.grid()\n",
    "plt.title('DISTRIBUTION OF PROFIT')\n",
    "plt.xlabel('PROFIT')"
   ]
  },
  {
   "cell_type": "markdown",
   "id": "9b354f48-9832-4ce2-852d-fa5d8994e5ea",
   "metadata": {},
   "source": [
    "### univariate anylsis on categorical data "
   ]
  },
  {
   "cell_type": "code",
   "execution_count": 150,
   "id": "6be5950f-5988-4cee-8ef6-05b3f442c60a",
   "metadata": {},
   "outputs": [
    {
     "data": {
      "text/html": [
       "<div>\n",
       "<style scoped>\n",
       "    .dataframe tbody tr th:only-of-type {\n",
       "        vertical-align: middle;\n",
       "    }\n",
       "\n",
       "    .dataframe tbody tr th {\n",
       "        vertical-align: top;\n",
       "    }\n",
       "\n",
       "    .dataframe thead th {\n",
       "        text-align: right;\n",
       "    }\n",
       "</style>\n",
       "<table border=\"1\" class=\"dataframe\">\n",
       "  <thead>\n",
       "    <tr style=\"text-align: right;\">\n",
       "      <th></th>\n",
       "      <th>Order_ID</th>\n",
       "      <th>Ship_Mode</th>\n",
       "      <th>Customer_ID</th>\n",
       "      <th>Customer_Name</th>\n",
       "      <th>Segment</th>\n",
       "      <th>Country</th>\n",
       "      <th>City</th>\n",
       "      <th>State</th>\n",
       "      <th>Region</th>\n",
       "      <th>Product_ID</th>\n",
       "      <th>Category</th>\n",
       "      <th>Sub_Category</th>\n",
       "      <th>Product_Name</th>\n",
       "    </tr>\n",
       "  </thead>\n",
       "  <tbody>\n",
       "    <tr>\n",
       "      <th>0</th>\n",
       "      <td>CA-2016-152156</td>\n",
       "      <td>Second Class</td>\n",
       "      <td>CG-12520</td>\n",
       "      <td>Claire Gute</td>\n",
       "      <td>Consumer</td>\n",
       "      <td>United States</td>\n",
       "      <td>Henderson</td>\n",
       "      <td>Kentucky</td>\n",
       "      <td>South</td>\n",
       "      <td>FUR-BO-10001798</td>\n",
       "      <td>Furniture</td>\n",
       "      <td>Bookcases</td>\n",
       "      <td>Bush Somerset Collection Bookcase</td>\n",
       "    </tr>\n",
       "    <tr>\n",
       "      <th>1</th>\n",
       "      <td>CA-2016-152156</td>\n",
       "      <td>Second Class</td>\n",
       "      <td>CG-12520</td>\n",
       "      <td>Claire Gute</td>\n",
       "      <td>Consumer</td>\n",
       "      <td>United States</td>\n",
       "      <td>Henderson</td>\n",
       "      <td>Kentucky</td>\n",
       "      <td>South</td>\n",
       "      <td>FUR-CH-10000454</td>\n",
       "      <td>Furniture</td>\n",
       "      <td>Chairs</td>\n",
       "      <td>Hon Deluxe Fabric Upholstered Stacking Chairs,...</td>\n",
       "    </tr>\n",
       "    <tr>\n",
       "      <th>2</th>\n",
       "      <td>CA-2016-138688</td>\n",
       "      <td>Second Class</td>\n",
       "      <td>DV-13045</td>\n",
       "      <td>Darrin Van Huff</td>\n",
       "      <td>Corporate</td>\n",
       "      <td>United States</td>\n",
       "      <td>Los Angeles</td>\n",
       "      <td>California</td>\n",
       "      <td>West</td>\n",
       "      <td>OFF-LA-10000240</td>\n",
       "      <td>Office Supplies</td>\n",
       "      <td>Labels</td>\n",
       "      <td>Self-Adhesive Address Labels for Typewriters b...</td>\n",
       "    </tr>\n",
       "    <tr>\n",
       "      <th>3</th>\n",
       "      <td>US-2015-108966</td>\n",
       "      <td>Standard Class</td>\n",
       "      <td>SO-20335</td>\n",
       "      <td>Sean O'Donnell</td>\n",
       "      <td>Consumer</td>\n",
       "      <td>United States</td>\n",
       "      <td>Fort Lauderdale</td>\n",
       "      <td>Florida</td>\n",
       "      <td>South</td>\n",
       "      <td>FUR-TA-10000577</td>\n",
       "      <td>Furniture</td>\n",
       "      <td>Tables</td>\n",
       "      <td>Bretford CR4500 Series Slim Rectangular Table</td>\n",
       "    </tr>\n",
       "    <tr>\n",
       "      <th>4</th>\n",
       "      <td>US-2015-108966</td>\n",
       "      <td>Standard Class</td>\n",
       "      <td>SO-20335</td>\n",
       "      <td>Sean O'Donnell</td>\n",
       "      <td>Consumer</td>\n",
       "      <td>United States</td>\n",
       "      <td>Fort Lauderdale</td>\n",
       "      <td>Florida</td>\n",
       "      <td>South</td>\n",
       "      <td>OFF-ST-10000760</td>\n",
       "      <td>Office Supplies</td>\n",
       "      <td>Storage</td>\n",
       "      <td>Eldon Fold 'N Roll Cart System</td>\n",
       "    </tr>\n",
       "  </tbody>\n",
       "</table>\n",
       "</div>"
      ],
      "text/plain": [
       "         Order_ID       Ship_Mode Customer_ID    Customer_Name    Segment  \\\n",
       "0  CA-2016-152156    Second Class    CG-12520      Claire Gute   Consumer   \n",
       "1  CA-2016-152156    Second Class    CG-12520      Claire Gute   Consumer   \n",
       "2  CA-2016-138688    Second Class    DV-13045  Darrin Van Huff  Corporate   \n",
       "3  US-2015-108966  Standard Class    SO-20335   Sean O'Donnell   Consumer   \n",
       "4  US-2015-108966  Standard Class    SO-20335   Sean O'Donnell   Consumer   \n",
       "\n",
       "         Country             City       State Region       Product_ID  \\\n",
       "0  United States        Henderson    Kentucky  South  FUR-BO-10001798   \n",
       "1  United States        Henderson    Kentucky  South  FUR-CH-10000454   \n",
       "2  United States      Los Angeles  California   West  OFF-LA-10000240   \n",
       "3  United States  Fort Lauderdale     Florida  South  FUR-TA-10000577   \n",
       "4  United States  Fort Lauderdale     Florida  South  OFF-ST-10000760   \n",
       "\n",
       "          Category Sub_Category  \\\n",
       "0        Furniture    Bookcases   \n",
       "1        Furniture       Chairs   \n",
       "2  Office Supplies       Labels   \n",
       "3        Furniture       Tables   \n",
       "4  Office Supplies      Storage   \n",
       "\n",
       "                                        Product_Name  \n",
       "0                  Bush Somerset Collection Bookcase  \n",
       "1  Hon Deluxe Fabric Upholstered Stacking Chairs,...  \n",
       "2  Self-Adhesive Address Labels for Typewriters b...  \n",
       "3      Bretford CR4500 Series Slim Rectangular Table  \n",
       "4                     Eldon Fold 'N Roll Cart System  "
      ]
     },
     "execution_count": 150,
     "metadata": {},
     "output_type": "execute_result"
    }
   ],
   "source": [
    "df_cat.head()"
   ]
  },
  {
   "cell_type": "code",
   "execution_count": 152,
   "id": "2057f9f2-8c8f-404a-8554-677f2bcd00b9",
   "metadata": {},
   "outputs": [
    {
     "data": {
      "text/plain": [
       "Index(['Order_ID', 'Ship_Mode', 'Customer_ID', 'Customer_Name', 'Segment',\n",
       "       'Country', 'City', 'State', 'Region', 'Product_ID', 'Category',\n",
       "       'Sub_Category', 'Product_Name'],\n",
       "      dtype='object')"
      ]
     },
     "execution_count": 152,
     "metadata": {},
     "output_type": "execute_result"
    }
   ],
   "source": [
    "df_cat.columns"
   ]
  },
  {
   "cell_type": "markdown",
   "id": "0148178a-457b-42ae-8a69-36bc0979db34",
   "metadata": {},
   "source": [
    "#### Order_ID\n",
    "\n"
   ]
  },
  {
   "cell_type": "code",
   "execution_count": 163,
   "id": "a6b2c3e7-60d7-4cea-86cf-ec0b6dd18ac5",
   "metadata": {},
   "outputs": [
    {
     "data": {
      "text/plain": [
       "Order_ID\n",
       "CA-2017-100111    14\n",
       "CA-2017-157987    12\n",
       "CA-2016-165330    11\n",
       "US-2016-108504    11\n",
       "CA-2015-131338    10\n",
       "CA-2016-105732    10\n",
       "US-2015-126977    10\n",
       "US-2016-114013     9\n",
       "CA-2014-106439     9\n",
       "CA-2016-145177     9\n",
       "Name: count, dtype: int64"
      ]
     },
     "execution_count": 163,
     "metadata": {},
     "output_type": "execute_result"
    }
   ],
   "source": [
    "# show the coun\n",
    "df_cat.Order_ID.value_counts().head(10)"
   ]
  },
  {
   "cell_type": "code",
   "execution_count": 169,
   "id": "6a152e6f-3a20-4198-a2e1-1798854c0ad8",
   "metadata": {},
   "outputs": [
    {
     "data": {
      "text/plain": [
       "Text(0.5, 0, 'Order Id')"
      ]
     },
     "execution_count": 169,
     "metadata": {},
     "output_type": "execute_result"
    },
    {
     "data": {
      "image/png": "[encoded data removed]",
      "text/plain": [
       "<Figure size 640x480 with 1 Axes>"
      ]
     },
     "metadata": {},
     "output_type": "display_data"
    }
   ],
   "source": [
    "df_cat.Order_ID.value_counts().head(10).plot(kind = 'bar', color = 'blue')\n",
    "plt.grid()\n",
    "plt.title('Distribution of Order Id')\n",
    "plt.xlabel('Order Id')"
   ]
  },
  {
   "cell_type": "code",
   "execution_count": 187,
   "id": "4f890b92-1284-4cfc-b731-b5a56ffd02c3",
   "metadata": {},
   "outputs": [],
   "source": [
    "# inference \n",
    "# maximum count 14\n",
    "# CA-2017-100111    14\n",
    "# CA-2017-157987    12\n",
    "# CA-2016-165330    11\n",
    "# US-2016-108504    11\n",
    "# CA-2015-131338    10\n",
    "# CA-2016-105732    10\n",
    "# US-2015-126977    10\n",
    "# US-2016-114013     9\n",
    "# CA-2014-106439     9\n",
    "# CA-2016-145177     9\n"
   ]
  },
  {
   "cell_type": "code",
   "execution_count": 189,
   "id": "45eced47-1442-4840-941c-42611547280f",
   "metadata": {},
   "outputs": [
    {
     "data": {
      "text/plain": [
       "Index(['Order_ID', 'Ship_Mode', 'Customer_ID', 'Customer_Name', 'Segment',\n",
       "       'Country', 'City', 'State', 'Region', 'Product_ID', 'Category',\n",
       "       'Sub_Category', 'Product_Name'],\n",
       "      dtype='object')"
      ]
     },
     "execution_count": 189,
     "metadata": {},
     "output_type": "execute_result"
    }
   ],
   "source": [
    "df_cat.columns"
   ]
  },
  {
   "cell_type": "code",
   "execution_count": 191,
   "id": "61f19602-f5a9-47d2-97e7-b31d4b277dcd",
   "metadata": {},
   "outputs": [
    {
     "data": {
      "text/plain": [
       "Ship_Mode\n",
       "Standard Class    5968\n",
       "Second Class      1945\n",
       "First Class       1538\n",
       "Same Day           543\n",
       "Name: count, dtype: int64"
      ]
     },
     "execution_count": 191,
     "metadata": {},
     "output_type": "execute_result"
    }
   ],
   "source": [
    "# show the coun\n",
    "df_cat.Ship_Mode.value_counts().head(10)"
   ]
  },
  {
   "cell_type": "code",
   "execution_count": 193,
   "id": "32b553b2-fda4-4da0-9add-5ce0eae38f44",
   "metadata": {},
   "outputs": [
    {
     "data": {
      "text/plain": [
       "Text(0.5, 0, 'Ship_Mode')"
      ]
     },
     "execution_count": 193,
     "metadata": {},
     "output_type": "execute_result"
    },
    {
     "data": {
      "image/png": "[encoded data removed]",
      "text/plain": [
       "<Figure size 640x480 with 1 Axes>"
      ]
     },
     "metadata": {},
     "output_type": "display_data"
    }
   ],
   "source": [
    "df_cat.Ship_Mode.value_counts().head(10).plot(kind = 'bar', color = 'blue')\n",
    "plt.grid()\n",
    "plt.title('Distribution ofrder Ship_Mode')\n",
    "plt.xlabel('Ship_Mode')"
   ]
  },
  {
   "cell_type": "code",
   "execution_count": 195,
   "id": "ed83bd07-b0c5-48e2-960c-eab1900814d7",
   "metadata": {},
   "outputs": [],
   "source": [
    "# inference \n",
    "# maximum count 6000\n",
    "# Standard Class    5968\n",
    "# Second Class      1945\n",
    "# First Class       1538\n",
    "# Same Day           543\n"
   ]
  },
  {
   "cell_type": "code",
   "execution_count": 197,
   "id": "d14125f9-0d41-425a-8684-c927cf0b8691",
   "metadata": {},
   "outputs": [
    {
     "data": {
      "text/plain": [
       "Index(['Order_ID', 'Ship_Mode', 'Customer_ID', 'Customer_Name', 'Segment',\n",
       "       'Country', 'City', 'State', 'Region', 'Product_ID', 'Category',\n",
       "       'Sub_Category', 'Product_Name'],\n",
       "      dtype='object')"
      ]
     },
     "execution_count": 197,
     "metadata": {},
     "output_type": "execute_result"
    }
   ],
   "source": [
    "df_cat.columns"
   ]
  },
  {
   "cell_type": "code",
   "execution_count": 199,
   "id": "b7e53bdb-a470-4420-9ba0-f92cc6f1546b",
   "metadata": {},
   "outputs": [
    {
     "data": {
      "text/plain": [
       "Customer_ID\n",
       "WB-21850    37\n",
       "JL-15835    34\n",
       "MA-17560    34\n",
       "PP-18955    34\n",
       "CK-12205    32\n",
       "SV-20365    32\n",
       "JD-15895    32\n",
       "EH-13765    32\n",
       "ZC-21910    31\n",
       "EP-13915    31\n",
       "Name: count, dtype: int64"
      ]
     },
     "execution_count": 199,
     "metadata": {},
     "output_type": "execute_result"
    }
   ],
   "source": [
    "# show the coun\n",
    "df_cat.Customer_ID.value_counts().head(10)"
   ]
  },
  {
   "cell_type": "code",
   "execution_count": 201,
   "id": "8bfafa45-8fbc-424d-9f4e-1376b6effbdb",
   "metadata": {},
   "outputs": [
    {
     "data": {
      "text/plain": [
       "Text(0.5, 0, 'Customer_ID')"
      ]
     },
     "execution_count": 201,
     "metadata": {},
     "output_type": "execute_result"
    },
    {
     "data": {
      "image/png": "[encoded data removed]",
      "text/plain": [
       "<Figure size 640x480 with 1 Axes>"
      ]
     },
     "metadata": {},
     "output_type": "display_data"
    }
   ],
   "source": [
    "df_cat.Customer_ID.value_counts().head(10).plot(kind = 'bar', color = 'blue')\n",
    "plt.grid()\n",
    "plt.title('Distribution ofrder Customer_ID')\n",
    "plt.xlabel('Customer_ID')"
   ]
  },
  {
   "cell_type": "code",
   "execution_count": 203,
   "id": "a92072aa-e72a-4b50-a56c-f45f6876175e",
   "metadata": {},
   "outputs": [],
   "source": [
    "# inference \n",
    "# maximum count 37\n",
    "# WB-21850    37\n",
    "# JL-15835    34\n",
    "# MA-17560    34\n",
    "# PP-18955    34\n",
    "# CK-12205    32\n",
    "# SV-20365    32\n",
    "# JD-15895    32\n",
    "# EH-13765    32\n",
    "# ZC-21910    31\n",
    "# EP-13915    31\n",
    "\n"
   ]
  },
  {
   "cell_type": "code",
   "execution_count": null,
   "id": "2025f9b8-dd43-4956-bf22-72ac6481a5ce",
   "metadata": {},
   "outputs": [],
   "source": []
  },
  {
   "cell_type": "code",
   "execution_count": null,
   "id": "0d22d04e-99bd-4cf9-aad8-63702376ade3",
   "metadata": {},
   "outputs": [],
   "source": []
  },
  {
   "cell_type": "code",
   "execution_count": null,
   "id": "7dbf704c-6224-44a7-b981-76311f47a751",
   "metadata": {},
   "outputs": [],
   "source": []
  },
  {
   "cell_type": "markdown",
   "id": "1132eedd-e81d-494c-92f5-13c4336a9c51",
   "metadata": {},
   "source": [
    "### bivariate analysis "
   ]
  },
  {
   "cell_type": "code",
   "execution_count": 209,
   "id": "1a28346a-4cb2-407c-a59f-c19923e6b1f8",
   "metadata": {},
   "outputs": [
    {
     "data": {
      "text/html": [
       "<div>\n",
       "<style scoped>\n",
       "    .dataframe tbody tr th:only-of-type {\n",
       "        vertical-align: middle;\n",
       "    }\n",
       "\n",
       "    .dataframe tbody tr th {\n",
       "        vertical-align: top;\n",
       "    }\n",
       "\n",
       "    .dataframe thead th {\n",
       "        text-align: right;\n",
       "    }\n",
       "</style>\n",
       "<table border=\"1\" class=\"dataframe\">\n",
       "  <thead>\n",
       "    <tr style=\"text-align: right;\">\n",
       "      <th></th>\n",
       "      <th>Postal_Code</th>\n",
       "      <th>Sales</th>\n",
       "      <th>Quantity</th>\n",
       "      <th>Discount</th>\n",
       "      <th>Profit</th>\n",
       "    </tr>\n",
       "  </thead>\n",
       "  <tbody>\n",
       "    <tr>\n",
       "      <th>Postal_Code</th>\n",
       "      <td>1.000000</td>\n",
       "      <td>-0.023854</td>\n",
       "      <td>0.012761</td>\n",
       "      <td>0.058443</td>\n",
       "      <td>-0.029961</td>\n",
       "    </tr>\n",
       "    <tr>\n",
       "      <th>Sales</th>\n",
       "      <td>-0.023854</td>\n",
       "      <td>1.000000</td>\n",
       "      <td>0.200795</td>\n",
       "      <td>-0.028190</td>\n",
       "      <td>0.479064</td>\n",
       "    </tr>\n",
       "    <tr>\n",
       "      <th>Quantity</th>\n",
       "      <td>0.012761</td>\n",
       "      <td>0.200795</td>\n",
       "      <td>1.000000</td>\n",
       "      <td>0.008623</td>\n",
       "      <td>0.066253</td>\n",
       "    </tr>\n",
       "    <tr>\n",
       "      <th>Discount</th>\n",
       "      <td>0.058443</td>\n",
       "      <td>-0.028190</td>\n",
       "      <td>0.008623</td>\n",
       "      <td>1.000000</td>\n",
       "      <td>-0.219487</td>\n",
       "    </tr>\n",
       "    <tr>\n",
       "      <th>Profit</th>\n",
       "      <td>-0.029961</td>\n",
       "      <td>0.479064</td>\n",
       "      <td>0.066253</td>\n",
       "      <td>-0.219487</td>\n",
       "      <td>1.000000</td>\n",
       "    </tr>\n",
       "  </tbody>\n",
       "</table>\n",
       "</div>"
      ],
      "text/plain": [
       "             Postal_Code     Sales  Quantity  Discount    Profit\n",
       "Postal_Code     1.000000 -0.023854  0.012761  0.058443 -0.029961\n",
       "Sales          -0.023854  1.000000  0.200795 -0.028190  0.479064\n",
       "Quantity        0.012761  0.200795  1.000000  0.008623  0.066253\n",
       "Discount        0.058443 -0.028190  0.008623  1.000000 -0.219487\n",
       "Profit         -0.029961  0.479064  0.066253 -0.219487  1.000000"
      ]
     },
     "execution_count": 209,
     "metadata": {},
     "output_type": "execute_result"
    }
   ],
   "source": [
    "# draw the correlation matrix \n",
    "df_num.corr()"
   ]
  },
  {
   "cell_type": "code",
   "execution_count": 217,
   "id": "c121ef20-8fae-430d-9682-42e19036cfa7",
   "metadata": {},
   "outputs": [
    {
     "data": {
      "image/png": "[encoded data removed]",
      "text/plain": [
       "<Figure size 640x480 with 2 Axes>"
      ]
     },
     "metadata": {},
     "output_type": "display_data"
    }
   ],
   "source": [
    "# draw an heatmap\n",
    "sns.heatmap(df_num.corr(),annot=True)\n",
    "plt.show()"
   ]
  },
  {
   "cell_type": "code",
   "execution_count": null,
   "id": "a4d09627-e72f-4e46-a0f0-3e640262ccf4",
   "metadata": {},
   "outputs": [],
   "source": [
    "\n"
   ]
  },
  {
   "cell_type": "markdown",
   "id": "cc9976c8-7fe3-42df-a8ce-f12c629b17a2",
   "metadata": {},
   "source": [
    "### bivariate analysis on one numerical and one categorical \n"
   ]
  },
  {
   "cell_type": "code",
   "execution_count": 224,
   "id": "2b9f06c5-6a36-4575-832d-9e494b855bbb",
   "metadata": {},
   "outputs": [
    {
     "data": {
      "text/plain": [
       "Index(['Order_ID', 'Ship_Mode', 'Customer_ID', 'Customer_Name', 'Segment',\n",
       "       'Country', 'City', 'State', 'Region', 'Product_ID', 'Category',\n",
       "       'Sub_Category', 'Product_Name'],\n",
       "      dtype='object')"
      ]
     },
     "execution_count": 224,
     "metadata": {},
     "output_type": "execute_result"
    }
   ],
   "source": [
    "# show the categorical varibles \n",
    "df_cat.columns\n",
    "\n"
   ]
  },
  {
   "cell_type": "code",
   "execution_count": 228,
   "id": "ce30eb86-774f-45a2-941d-cd3817f3e0a1",
   "metadata": {},
   "outputs": [
    {
     "data": {
      "text/plain": [
       "Index(['Postal_Code', 'Sales', 'Quantity', 'Discount', 'Profit'], dtype='object')"
      ]
     },
     "execution_count": 228,
     "metadata": {},
     "output_type": "execute_result"
    }
   ],
   "source": [
    "# numerical columns\n",
    "df_num.columns"
   ]
  },
  {
   "cell_type": "code",
   "execution_count": 230,
   "id": "8a3f2094-a345-4280-b416-347fd5c57e3a",
   "metadata": {},
   "outputs": [],
   "source": [
    "# make the pairs\n",
    "# slaes,Order_ID\n",
    "# sales,Ship_Mode\n",
    "# sales,Customer_ID\n",
    "# sales,Segment\n",
    "# sales,Country\n",
    "# sales,City\n",
    "# sales,State\n",
    "# sales,Region\n",
    "# sales,Product_ID\n",
    "# sales,Category\n",
    "# sales,Sub_Category\n",
    "# sales,Product_Name\n",
    "\n",
    "# Quantity,order_id\n",
    "# Quantity,Ship_Mode\n",
    "# Quantity,Customer_ID\n",
    "# Quantity,Segment\n",
    "# Quantity,Country\n",
    "# Quantity,City\n",
    "# Quantity,State\n",
    "# Quantity,Region\n",
    "# Quantity,Product_ID\n",
    "# Quantity,Category\n",
    "# Quantity,Sub_Category\n",
    "# Quantity,Product_Name\n",
    "\n"
   ]
  },
  {
   "cell_type": "markdown",
   "id": "59ca2f41-729e-4ad9-9db2-14e140b43c26",
   "metadata": {},
   "source": [
    "##### sales,Order_ID"
   ]
  },
  {
   "cell_type": "code",
   "execution_count": 239,
   "id": "62afdaf3-3c43-4621-be5e-0e6cde4dfbad",
   "metadata": {},
   "outputs": [
    {
     "data": {
      "image/png": "[encoded data removed]",
      "text/plain": [
       "<Figure size 640x480 with 1 Axes>"
      ]
     },
     "metadata": {},
     "output_type": "display_data"
    }
   ],
   "source": [
    "sns.barplot(x = 'Sales', y = 'Order_ID',data = df_superstore)\n",
    "plt.show()"
   ]
  },
  {
   "cell_type": "code",
   "execution_count": 236,
   "id": "7c3f94a6-8e46-4982-b305-d98f1c234cd5",
   "metadata": {},
   "outputs": [],
   "source": [
    "#inferne \n",
    "# graph is not interpretable "
   ]
  },
  {
   "cell_type": "code",
   "execution_count": 240,
   "id": "76f46975-0633-4c89-9a98-bd2ebaaeac0d",
   "metadata": {},
   "outputs": [
    {
     "data": {
      "image/png": "[encoded data removed]",
      "text/plain": [
       "<Figure size 640x480 with 1 Axes>"
      ]
     },
     "metadata": {},
     "output_type": "display_data"
    }
   ],
   "source": [
    "sns.barplot(x = 'Sales', y ='Ship_Mode',data = df_superstore)\n",
    "plt.show()"
   ]
  },
  {
   "cell_type": "code",
   "execution_count": 241,
   "id": "a97e47bd-1511-4832-9ccc-ef7b6a38e8c0",
   "metadata": {},
   "outputs": [],
   "source": [
    "# inference\n",
    "# the data is mostly balanced\n",
    "# all shipping modes same kind of behaviour in sales"
   ]
  },
  {
   "cell_type": "code",
   "execution_count": null,
   "id": "dc7081f2-a5fa-46ea-a1b6-62fad8622d9f",
   "metadata": {},
   "outputs": [],
   "source": [
    "sns.barplot(x = 'Sales', y = 'Customer_ID',data = df_superstore)"
   ]
  },
  {
   "cell_type": "code",
   "execution_count": null,
   "id": "ed1720b3-06a0-4f79-b5ef-7e4cb6e074e7",
   "metadata": {},
   "outputs": [],
   "source": []
  },
  {
   "cell_type": "code",
   "execution_count": null,
   "id": "b0d8833c-ef59-43b1-9315-0fd9a8e2a35d",
   "metadata": {},
   "outputs": [],
   "source": []
  },
  {
   "cell_type": "code",
   "execution_count": null,
   "id": "d2775129-dd3e-4d3c-b473-051a73fc77e2",
   "metadata": {},
   "outputs": [],
   "source": []
  },
  {
   "cell_type": "code",
   "execution_count": null,
   "id": "da8e5cdf-6b93-4e92-be50-2299596ba69d",
   "metadata": {},
   "outputs": [],
   "source": []
  },
  {
   "cell_type": "markdown",
   "id": "7df99847-f248-4b85-82f3-c613eada52d5",
   "metadata": {},
   "source": [
    "### multivariate analysis "
   ]
  },
  {
   "cell_type": "code",
   "execution_count": 244,
   "id": "5300d927-bac2-4869-bd58-348402d6300d",
   "metadata": {},
   "outputs": [
    {
     "data": {
      "text/plain": [
       "Index(['Order_ID', 'Ship_Mode', 'Customer_ID', 'Customer_Name', 'Segment',\n",
       "       'Country', 'City', 'State', 'Region', 'Product_ID', 'Category',\n",
       "       'Sub_Category', 'Product_Name'],\n",
       "      dtype='object')"
      ]
     },
     "execution_count": 244,
     "metadata": {},
     "output_type": "execute_result"
    }
   ],
   "source": [
    "# pivote table \n",
    "# show the categorical variable\n",
    "df_cat.columns"
   ]
  },
  {
   "cell_type": "code",
   "execution_count": 246,
   "id": "e010ecce-3ef3-4695-9ebd-2c5e820aed67",
   "metadata": {},
   "outputs": [
    {
     "data": {
      "text/plain": [
       "Index(['Postal_Code', 'Sales', 'Quantity', 'Discount', 'Profit'], dtype='object')"
      ]
     },
     "execution_count": 246,
     "metadata": {},
     "output_type": "execute_result"
    }
   ],
   "source": [
    "# show the numerical variable \n",
    "df_num.columns\n"
   ]
  },
  {
   "cell_type": "code",
   "execution_count": 248,
   "id": "e8401dd7-9dad-4228-8940-fcfbc8cfba4a",
   "metadata": {},
   "outputs": [],
   "source": [
    "# Ship_Mode,Segmen,Sales\n",
    "# Ship_Mode,Region,Sales\n",
    "# Region,Category,Sales\n",
    "# Ship_Mode,Category,Sales\n",
    "\n",
    "# Ship_Mode,Segmen,Quantity\n",
    "# Ship_Mode,Region,Quantity\n",
    "# Region,Category,Quantity\n",
    "# Ship_Mode,Category,Quantity\n",
    "\n",
    "# Ship_Mode,Segmen,Discount\n",
    "# Ship_Mode,Region,Discount\n",
    "# Region,Category,Discount\n",
    "# Ship_Mode,Category,Discount\n",
    "\n",
    "\n",
    "# Ship_Mode,Segmen,Profit\n",
    "# Ship_Mode,Region,Profit\n",
    "# Region,Category,Profit\n",
    "# Ship_Mode,Category,Profit\n"
   ]
  },
  {
   "cell_type": "markdown",
   "id": "df8fd3bf-9967-43ff-8675-896e4dd6a48f",
   "metadata": {},
   "source": [
    "##### Ship_Mode,Segmen,Sales"
   ]
  },
  {
   "cell_type": "code",
   "execution_count": 257,
   "id": "ae03c591-cd27-4dff-b6c7-6210ed716200",
   "metadata": {},
   "outputs": [
    {
     "data": {
      "text/html": [
       "<div>\n",
       "<style scoped>\n",
       "    .dataframe tbody tr th:only-of-type {\n",
       "        vertical-align: middle;\n",
       "    }\n",
       "\n",
       "    .dataframe tbody tr th {\n",
       "        vertical-align: top;\n",
       "    }\n",
       "\n",
       "    .dataframe thead th {\n",
       "        text-align: right;\n",
       "    }\n",
       "</style>\n",
       "<table border=\"1\" class=\"dataframe\">\n",
       "  <thead>\n",
       "    <tr style=\"text-align: right;\">\n",
       "      <th>Segment</th>\n",
       "      <th>Consumer</th>\n",
       "      <th>Corporate</th>\n",
       "      <th>Home Office</th>\n",
       "    </tr>\n",
       "    <tr>\n",
       "      <th>Ship_Mode</th>\n",
       "      <th></th>\n",
       "      <th></th>\n",
       "      <th></th>\n",
       "    </tr>\n",
       "  </thead>\n",
       "  <tbody>\n",
       "    <tr>\n",
       "      <th>First Class</th>\n",
       "      <td>0.984</td>\n",
       "      <td>1.188</td>\n",
       "      <td>0.990</td>\n",
       "    </tr>\n",
       "    <tr>\n",
       "      <th>Same Day</th>\n",
       "      <td>0.852</td>\n",
       "      <td>0.556</td>\n",
       "      <td>1.408</td>\n",
       "    </tr>\n",
       "    <tr>\n",
       "      <th>Second Class</th>\n",
       "      <td>1.344</td>\n",
       "      <td>1.188</td>\n",
       "      <td>1.524</td>\n",
       "    </tr>\n",
       "    <tr>\n",
       "      <th>Standard Class</th>\n",
       "      <td>0.444</td>\n",
       "      <td>0.836</td>\n",
       "      <td>1.408</td>\n",
       "    </tr>\n",
       "  </tbody>\n",
       "</table>\n",
       "</div>"
      ],
      "text/plain": [
       "Segment         Consumer  Corporate  Home Office\n",
       "Ship_Mode                                       \n",
       "First Class        0.984      1.188        0.990\n",
       "Same Day           0.852      0.556        1.408\n",
       "Second Class       1.344      1.188        1.524\n",
       "Standard Class     0.444      0.836        1.408"
      ]
     },
     "execution_count": 257,
     "metadata": {},
     "output_type": "execute_result"
    }
   ],
   "source": [
    "# show the pivot\n",
    "pd.crosstab(index = df_superstore.Ship_Mode,columns = df_superstore.Segment,values = df_superstore.Sales,aggfunc = 'min')"
   ]
  },
  {
   "cell_type": "code",
   "execution_count": 259,
   "id": "efacb9b9-0773-4ab0-8ae1-306b97f4b67f",
   "metadata": {},
   "outputs": [],
   "source": [
    "# interpretation\n",
    "# when shift mode is 1st class and segment is cunsumer then minimum sales is 0.984\n",
    "# when shift mode is same day and segment is consumer then 0.852\n",
    "# when shift mode is secound class and segment is consumer then minimum sales is 1.344\n",
    "# when shift mode is standerd class and segment is consumer then minimum sales is 0.444\n",
    "\n",
    "# when shift mode is 1st class and segment is corporate then minimum sales is 0.984\n",
    "# when shift mode is same day and segment is corporate then 0.852\n",
    "# when shift mode is secound class and segment is corporate then minimum sales is 1.344\n",
    "# when shift mode is standerd class and segment is corporate then minimum sales is  0.444\n",
    "\n",
    "# when shift mode is 1st class and segment is home office then minimum sales is 0.984\n",
    "# when shift mode is same day and segment is home office then 0.852\n",
    "# when shift mode is secound class and segment is home office then minimum sales is 1.344\n",
    "# when shift mode is standerd class and segment is home office then minimum sales is  0.444\n",
    "\n",
    "\n",
    "\n",
    "\n",
    "\n",
    "\n"
   ]
  },
  {
   "cell_type": "code",
   "execution_count": 261,
   "id": "fd253577-9e32-499f-be8b-6a08b3454b58",
   "metadata": {},
   "outputs": [
    {
     "data": {
      "text/html": [
       "<div>\n",
       "<style scoped>\n",
       "    .dataframe tbody tr th:only-of-type {\n",
       "        vertical-align: middle;\n",
       "    }\n",
       "\n",
       "    .dataframe tbody tr th {\n",
       "        vertical-align: top;\n",
       "    }\n",
       "\n",
       "    .dataframe thead th {\n",
       "        text-align: right;\n",
       "    }\n",
       "</style>\n",
       "<table border=\"1\" class=\"dataframe\">\n",
       "  <thead>\n",
       "    <tr style=\"text-align: right;\">\n",
       "      <th>Segment</th>\n",
       "      <th>Consumer</th>\n",
       "      <th>Corporate</th>\n",
       "      <th>Home Office</th>\n",
       "    </tr>\n",
       "    <tr>\n",
       "      <th>Ship_Mode</th>\n",
       "      <th></th>\n",
       "      <th></th>\n",
       "      <th></th>\n",
       "    </tr>\n",
       "  </thead>\n",
       "  <tbody>\n",
       "    <tr>\n",
       "      <th>First Class</th>\n",
       "      <td>13999.96</td>\n",
       "      <td>4799.984</td>\n",
       "      <td>11199.968</td>\n",
       "    </tr>\n",
       "    <tr>\n",
       "      <th>Same Day</th>\n",
       "      <td>2799.96</td>\n",
       "      <td>7999.980</td>\n",
       "      <td>2395.200</td>\n",
       "    </tr>\n",
       "    <tr>\n",
       "      <th>Second Class</th>\n",
       "      <td>8749.95</td>\n",
       "      <td>4912.590</td>\n",
       "      <td>4535.976</td>\n",
       "    </tr>\n",
       "    <tr>\n",
       "      <th>Standard Class</th>\n",
       "      <td>10499.97</td>\n",
       "      <td>17499.950</td>\n",
       "      <td>22638.480</td>\n",
       "    </tr>\n",
       "  </tbody>\n",
       "</table>\n",
       "</div>"
      ],
      "text/plain": [
       "Segment         Consumer  Corporate  Home Office\n",
       "Ship_Mode                                       \n",
       "First Class     13999.96   4799.984    11199.968\n",
       "Same Day         2799.96   7999.980     2395.200\n",
       "Second Class     8749.95   4912.590     4535.976\n",
       "Standard Class  10499.97  17499.950    22638.480"
      ]
     },
     "execution_count": 261,
     "metadata": {},
     "output_type": "execute_result"
    }
   ],
   "source": [
    "pd.crosstab(index = df_superstore.Ship_Mode,columns = df_superstore.Segment,values = df_superstore.Sales,aggfunc = 'max')"
   ]
  },
  {
   "cell_type": "code",
   "execution_count": 1,
   "id": "a3462eb8-1c17-4c28-9cfb-f178fe4f5201",
   "metadata": {},
   "outputs": [],
   "source": [
    "# interpretation\n",
    "# when shift mode is 1st class and segment is cunsumer then maximum sales is 13999.96\n",
    "# when shift mode is same day and segment is consumer then 0.852\n",
    "# when shift mode is secound class and segment is consumer then minimum sales is 1.344\n",
    "# when shift mode is standerd class and segment is consumer then minimum sales is 0.444\n",
    "\n",
    "# when shift mode is 1st class and segment is corporate then minimum sales is 0.984\n",
    "# when shift mode is same day and segment is corporate then 0.852\n",
    "# when shift mode is secound class and segment is corporate then minimum sales is 1.344\n",
    "# when shift mode is standerd class and segment is corporate then minimum sales is  0.444\n",
    "\n",
    "# when shift mode is 1st class and segment is home office then minimum sales is 0.984\n",
    "# when shift mode is same day and segment is home office then 0.852\n",
    "# when shift mode is secound class and segment is home office then minimum sales is 1.344\n",
    "# when shift mode is standerd class and segment is home office then minimum sales is  0.444\n",
    "\n",
    "\n"
   ]
  },
  {
   "cell_type": "code",
   "execution_count": null,
   "id": "34788cb4-161a-4494-b976-f4cd2a3343e9",
   "metadata": {},
   "outputs": [],
   "source": [
    "# "
   ]
  }
 ],
 "metadata": {
  "kernelspec": {
   "display_name": "Python [conda env:base] *",
   "language": "python",
   "name": "conda-base-py"
  },
  "language_info": {
   "codemirror_mode": {
    "name": "ipython",
    "version": 3
   },
   "file_extension": ".py",
   "mimetype": "text/x-python",
   "name": "python",
   "nbconvert_exporter": "python",
   "pygments_lexer": "ipython3",
   "version": "3.12.4"
  }
 },
 "nbformat": 4,
 "nbformat_minor": 5
}
